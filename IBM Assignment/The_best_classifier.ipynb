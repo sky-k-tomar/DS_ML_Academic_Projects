{
 "cells": [
  {
   "cell_type": "markdown",
   "id": "c75010a1",
   "metadata": {
    "button": false,
    "new_sheet": false,
    "papermill": {
     "duration": 0.047789,
     "end_time": "2022-03-10T13:09:02.670917",
     "exception": false,
     "start_time": "2022-03-10T13:09:02.623128",
     "status": "completed"
    },
    "run_control": {
     "read_only": false
    },
    "tags": []
   },
   "source": [
    "In this notebook we try to practice all the classification algorithms that we have learned in this course.\n",
    "\n",
    "We load a dataset using Pandas library, and apply the following algorithms, and find the best one for this specific dataset by accuracy evaluation methods.\n",
    "\n",
    "Let's first load required libraries:\n"
   ]
  },
  {
   "cell_type": "code",
   "execution_count": 1,
   "id": "69b64e8d",
   "metadata": {
    "button": false,
    "execution": {
     "iopub.execute_input": "2022-03-10T13:09:02.774100Z",
     "iopub.status.busy": "2022-03-10T13:09:02.772957Z",
     "iopub.status.idle": "2022-03-10T13:09:03.939469Z",
     "shell.execute_reply": "2022-03-10T13:09:03.938689Z",
     "shell.execute_reply.started": "2022-03-10T13:07:21.493682Z"
    },
    "new_sheet": false,
    "papermill": {
     "duration": 1.219881,
     "end_time": "2022-03-10T13:09:03.939697",
     "exception": false,
     "start_time": "2022-03-10T13:09:02.719816",
     "status": "completed"
    },
    "run_control": {
     "read_only": false
    },
    "tags": []
   },
   "outputs": [],
   "source": [
    "import itertools\n",
    "import numpy as np\n",
    "import matplotlib.pyplot as plt\n",
    "from matplotlib.ticker import NullFormatter\n",
    "import pandas as pd\n",
    "import numpy as np\n",
    "import matplotlib.ticker as ticker\n",
    "from sklearn import preprocessing\n",
    "%matplotlib inline"
   ]
  },
  {
   "cell_type": "markdown",
   "id": "36baa641",
   "metadata": {
    "button": false,
    "new_sheet": false,
    "papermill": {
     "duration": 0.048617,
     "end_time": "2022-03-10T13:09:04.036198",
     "exception": false,
     "start_time": "2022-03-10T13:09:03.987581",
     "status": "completed"
    },
    "run_control": {
     "read_only": false
    },
    "tags": []
   },
   "source": [
    "### About dataset\n"
   ]
  },
  {
   "cell_type": "markdown",
   "id": "cef1fee3",
   "metadata": {
    "button": false,
    "new_sheet": false,
    "papermill": {
     "duration": 0.049514,
     "end_time": "2022-03-10T13:09:04.133078",
     "exception": false,
     "start_time": "2022-03-10T13:09:04.083564",
     "status": "completed"
    },
    "run_control": {
     "read_only": false
    },
    "tags": []
   },
   "source": [
    "This dataset is about past loans. The **Loan_train.csv** data set includes details of 346 customers whose loan are already paid off or defaulted. It includes following fields:\n",
    "\n",
    "| Field          | Description                                                                           |\n",
    "| -------------- | ------------------------------------------------------------------------------------- |\n",
    "| Loan_status    | Whether a loan is paid off on in collection                                           |\n",
    "| Principal      | Basic principal loan amount at the                                                    |\n",
    "| Terms          | Origination terms which can be weekly (7 days), biweekly, and monthly payoff schedule |\n",
    "| Effective_date | When the loan got originated and took effects                                         |\n",
    "| Due_date       | Since it’s one-time payoff schedule, each loan has one single due date                |\n",
    "| Age            | Age of applicant                                                                      |\n",
    "| Education      | Education of applicant                                                                |\n",
    "| Gender         | The gender of applicant                                                               |\n"
   ]
  },
  {
   "cell_type": "markdown",
   "id": "4fc77746",
   "metadata": {
    "button": false,
    "new_sheet": false,
    "papermill": {
     "duration": 0.049173,
     "end_time": "2022-03-10T13:09:04.230258",
     "exception": false,
     "start_time": "2022-03-10T13:09:04.181085",
     "status": "completed"
    },
    "run_control": {
     "read_only": false
    },
    "tags": []
   },
   "source": [
    "Let's download the dataset\n"
   ]
  },
  {
   "cell_type": "code",
   "execution_count": 2,
   "id": "c918f03d",
   "metadata": {
    "button": false,
    "execution": {
     "iopub.execute_input": "2022-03-10T13:09:04.334193Z",
     "iopub.status.busy": "2022-03-10T13:09:04.333560Z",
     "iopub.status.idle": "2022-03-10T13:09:06.061132Z",
     "shell.execute_reply": "2022-03-10T13:09:06.060378Z",
     "shell.execute_reply.started": "2022-03-10T13:07:22.566270Z"
    },
    "new_sheet": false,
    "papermill": {
     "duration": 1.778796,
     "end_time": "2022-03-10T13:09:06.061290",
     "exception": false,
     "start_time": "2022-03-10T13:09:04.282494",
     "status": "completed"
    },
    "run_control": {
     "read_only": false
    },
    "tags": []
   },
   "outputs": [
    {
     "name": "stdout",
     "output_type": "stream",
     "text": [
      "--2022-03-10 13:09:05--  https://cf-courses-data.s3.us.cloud-object-storage.appdomain.cloud/IBMDeveloperSkillsNetwork-ML0101EN-SkillsNetwork/labs/FinalModule_Coursera/data/loan_train.csv\r\n",
      "Resolving cf-courses-data.s3.us.cloud-object-storage.appdomain.cloud (cf-courses-data.s3.us.cloud-object-storage.appdomain.cloud)... 198.23.119.245\r\n",
      "Connecting to cf-courses-data.s3.us.cloud-object-storage.appdomain.cloud (cf-courses-data.s3.us.cloud-object-storage.appdomain.cloud)|198.23.119.245|:443... connected.\r\n",
      "HTTP request sent, awaiting response... 200 OK\r\n",
      "Length: 23101 (23K) [text/csv]\r\n",
      "Saving to: ‘loan_train.csv’\r\n",
      "\r\n",
      "loan_train.csv      100%[===================>]  22.56K  --.-KB/s    in 0s      \r\n",
      "\r\n",
      "2022-03-10 13:09:05 (84.6 MB/s) - ‘loan_train.csv’ saved [23101/23101]\r\n",
      "\r\n"
     ]
    }
   ],
   "source": [
    "!wget -O loan_train.csv https://cf-courses-data.s3.us.cloud-object-storage.appdomain.cloud/IBMDeveloperSkillsNetwork-ML0101EN-SkillsNetwork/labs/FinalModule_Coursera/data/loan_train.csv"
   ]
  },
  {
   "cell_type": "markdown",
   "id": "fa0f22a4",
   "metadata": {
    "button": false,
    "new_sheet": false,
    "papermill": {
     "duration": 0.049769,
     "end_time": "2022-03-10T13:09:06.163688",
     "exception": false,
     "start_time": "2022-03-10T13:09:06.113919",
     "status": "completed"
    },
    "run_control": {
     "read_only": false
    },
    "tags": []
   },
   "source": [
    "### Load Data From CSV File\n"
   ]
  },
  {
   "cell_type": "code",
   "execution_count": 3,
   "id": "477c82e5",
   "metadata": {
    "button": false,
    "execution": {
     "iopub.execute_input": "2022-03-10T13:09:06.272478Z",
     "iopub.status.busy": "2022-03-10T13:09:06.271431Z",
     "iopub.status.idle": "2022-03-10T13:09:06.299171Z",
     "shell.execute_reply": "2022-03-10T13:09:06.299673Z",
     "shell.execute_reply.started": "2022-03-10T13:07:24.443069Z"
    },
    "new_sheet": false,
    "papermill": {
     "duration": 0.086739,
     "end_time": "2022-03-10T13:09:06.299855",
     "exception": false,
     "start_time": "2022-03-10T13:09:06.213116",
     "status": "completed"
    },
    "run_control": {
     "read_only": false
    },
    "tags": []
   },
   "outputs": [
    {
     "data": {
      "text/html": [
       "<div>\n",
       "<style scoped>\n",
       "    .dataframe tbody tr th:only-of-type {\n",
       "        vertical-align: middle;\n",
       "    }\n",
       "\n",
       "    .dataframe tbody tr th {\n",
       "        vertical-align: top;\n",
       "    }\n",
       "\n",
       "    .dataframe thead th {\n",
       "        text-align: right;\n",
       "    }\n",
       "</style>\n",
       "<table border=\"1\" class=\"dataframe\">\n",
       "  <thead>\n",
       "    <tr style=\"text-align: right;\">\n",
       "      <th></th>\n",
       "      <th>Unnamed: 0</th>\n",
       "      <th>Unnamed: 0.1</th>\n",
       "      <th>loan_status</th>\n",
       "      <th>Principal</th>\n",
       "      <th>terms</th>\n",
       "      <th>effective_date</th>\n",
       "      <th>due_date</th>\n",
       "      <th>age</th>\n",
       "      <th>education</th>\n",
       "      <th>Gender</th>\n",
       "    </tr>\n",
       "  </thead>\n",
       "  <tbody>\n",
       "    <tr>\n",
       "      <th>0</th>\n",
       "      <td>0</td>\n",
       "      <td>0</td>\n",
       "      <td>PAIDOFF</td>\n",
       "      <td>1000</td>\n",
       "      <td>30</td>\n",
       "      <td>9/8/2016</td>\n",
       "      <td>10/7/2016</td>\n",
       "      <td>45</td>\n",
       "      <td>High School or Below</td>\n",
       "      <td>male</td>\n",
       "    </tr>\n",
       "    <tr>\n",
       "      <th>1</th>\n",
       "      <td>2</td>\n",
       "      <td>2</td>\n",
       "      <td>PAIDOFF</td>\n",
       "      <td>1000</td>\n",
       "      <td>30</td>\n",
       "      <td>9/8/2016</td>\n",
       "      <td>10/7/2016</td>\n",
       "      <td>33</td>\n",
       "      <td>Bechalor</td>\n",
       "      <td>female</td>\n",
       "    </tr>\n",
       "    <tr>\n",
       "      <th>2</th>\n",
       "      <td>3</td>\n",
       "      <td>3</td>\n",
       "      <td>PAIDOFF</td>\n",
       "      <td>1000</td>\n",
       "      <td>15</td>\n",
       "      <td>9/8/2016</td>\n",
       "      <td>9/22/2016</td>\n",
       "      <td>27</td>\n",
       "      <td>college</td>\n",
       "      <td>male</td>\n",
       "    </tr>\n",
       "    <tr>\n",
       "      <th>3</th>\n",
       "      <td>4</td>\n",
       "      <td>4</td>\n",
       "      <td>PAIDOFF</td>\n",
       "      <td>1000</td>\n",
       "      <td>30</td>\n",
       "      <td>9/9/2016</td>\n",
       "      <td>10/8/2016</td>\n",
       "      <td>28</td>\n",
       "      <td>college</td>\n",
       "      <td>female</td>\n",
       "    </tr>\n",
       "    <tr>\n",
       "      <th>4</th>\n",
       "      <td>6</td>\n",
       "      <td>6</td>\n",
       "      <td>PAIDOFF</td>\n",
       "      <td>1000</td>\n",
       "      <td>30</td>\n",
       "      <td>9/9/2016</td>\n",
       "      <td>10/8/2016</td>\n",
       "      <td>29</td>\n",
       "      <td>college</td>\n",
       "      <td>male</td>\n",
       "    </tr>\n",
       "  </tbody>\n",
       "</table>\n",
       "</div>"
      ],
      "text/plain": [
       "   Unnamed: 0  Unnamed: 0.1 loan_status  Principal  terms effective_date  \\\n",
       "0           0             0     PAIDOFF       1000     30       9/8/2016   \n",
       "1           2             2     PAIDOFF       1000     30       9/8/2016   \n",
       "2           3             3     PAIDOFF       1000     15       9/8/2016   \n",
       "3           4             4     PAIDOFF       1000     30       9/9/2016   \n",
       "4           6             6     PAIDOFF       1000     30       9/9/2016   \n",
       "\n",
       "    due_date  age             education  Gender  \n",
       "0  10/7/2016   45  High School or Below    male  \n",
       "1  10/7/2016   33              Bechalor  female  \n",
       "2  9/22/2016   27               college    male  \n",
       "3  10/8/2016   28               college  female  \n",
       "4  10/8/2016   29               college    male  "
      ]
     },
     "execution_count": 3,
     "metadata": {},
     "output_type": "execute_result"
    }
   ],
   "source": [
    "df = pd.read_csv('loan_train.csv')\n",
    "df.head()"
   ]
  },
  {
   "cell_type": "code",
   "execution_count": 4,
   "id": "2cec6ce7",
   "metadata": {
    "execution": {
     "iopub.execute_input": "2022-03-10T13:09:06.409144Z",
     "iopub.status.busy": "2022-03-10T13:09:06.408513Z",
     "iopub.status.idle": "2022-03-10T13:09:06.413713Z",
     "shell.execute_reply": "2022-03-10T13:09:06.414134Z",
     "shell.execute_reply.started": "2022-03-10T13:07:24.480338Z"
    },
    "papermill": {
     "duration": 0.060972,
     "end_time": "2022-03-10T13:09:06.414309",
     "exception": false,
     "start_time": "2022-03-10T13:09:06.353337",
     "status": "completed"
    },
    "tags": []
   },
   "outputs": [
    {
     "data": {
      "text/plain": [
       "(346, 10)"
      ]
     },
     "execution_count": 4,
     "metadata": {},
     "output_type": "execute_result"
    }
   ],
   "source": [
    "df.shape"
   ]
  },
  {
   "cell_type": "markdown",
   "id": "2c4cfb7a",
   "metadata": {
    "button": false,
    "new_sheet": false,
    "papermill": {
     "duration": 0.051552,
     "end_time": "2022-03-10T13:09:06.519507",
     "exception": false,
     "start_time": "2022-03-10T13:09:06.467955",
     "status": "completed"
    },
    "run_control": {
     "read_only": false
    },
    "tags": []
   },
   "source": [
    "### Convert to date time object\n"
   ]
  },
  {
   "cell_type": "code",
   "execution_count": 5,
   "id": "221d358f",
   "metadata": {
    "button": false,
    "execution": {
     "iopub.execute_input": "2022-03-10T13:09:06.628211Z",
     "iopub.status.busy": "2022-03-10T13:09:06.627532Z",
     "iopub.status.idle": "2022-03-10T13:09:06.658439Z",
     "shell.execute_reply": "2022-03-10T13:09:06.658980Z",
     "shell.execute_reply.started": "2022-03-10T13:07:24.489350Z"
    },
    "new_sheet": false,
    "papermill": {
     "duration": 0.088151,
     "end_time": "2022-03-10T13:09:06.659161",
     "exception": false,
     "start_time": "2022-03-10T13:09:06.571010",
     "status": "completed"
    },
    "run_control": {
     "read_only": false
    },
    "tags": []
   },
   "outputs": [
    {
     "data": {
      "text/html": [
       "<div>\n",
       "<style scoped>\n",
       "    .dataframe tbody tr th:only-of-type {\n",
       "        vertical-align: middle;\n",
       "    }\n",
       "\n",
       "    .dataframe tbody tr th {\n",
       "        vertical-align: top;\n",
       "    }\n",
       "\n",
       "    .dataframe thead th {\n",
       "        text-align: right;\n",
       "    }\n",
       "</style>\n",
       "<table border=\"1\" class=\"dataframe\">\n",
       "  <thead>\n",
       "    <tr style=\"text-align: right;\">\n",
       "      <th></th>\n",
       "      <th>Unnamed: 0</th>\n",
       "      <th>Unnamed: 0.1</th>\n",
       "      <th>loan_status</th>\n",
       "      <th>Principal</th>\n",
       "      <th>terms</th>\n",
       "      <th>effective_date</th>\n",
       "      <th>due_date</th>\n",
       "      <th>age</th>\n",
       "      <th>education</th>\n",
       "      <th>Gender</th>\n",
       "    </tr>\n",
       "  </thead>\n",
       "  <tbody>\n",
       "    <tr>\n",
       "      <th>0</th>\n",
       "      <td>0</td>\n",
       "      <td>0</td>\n",
       "      <td>PAIDOFF</td>\n",
       "      <td>1000</td>\n",
       "      <td>30</td>\n",
       "      <td>2016-09-08</td>\n",
       "      <td>2016-10-07</td>\n",
       "      <td>45</td>\n",
       "      <td>High School or Below</td>\n",
       "      <td>male</td>\n",
       "    </tr>\n",
       "    <tr>\n",
       "      <th>1</th>\n",
       "      <td>2</td>\n",
       "      <td>2</td>\n",
       "      <td>PAIDOFF</td>\n",
       "      <td>1000</td>\n",
       "      <td>30</td>\n",
       "      <td>2016-09-08</td>\n",
       "      <td>2016-10-07</td>\n",
       "      <td>33</td>\n",
       "      <td>Bechalor</td>\n",
       "      <td>female</td>\n",
       "    </tr>\n",
       "    <tr>\n",
       "      <th>2</th>\n",
       "      <td>3</td>\n",
       "      <td>3</td>\n",
       "      <td>PAIDOFF</td>\n",
       "      <td>1000</td>\n",
       "      <td>15</td>\n",
       "      <td>2016-09-08</td>\n",
       "      <td>2016-09-22</td>\n",
       "      <td>27</td>\n",
       "      <td>college</td>\n",
       "      <td>male</td>\n",
       "    </tr>\n",
       "    <tr>\n",
       "      <th>3</th>\n",
       "      <td>4</td>\n",
       "      <td>4</td>\n",
       "      <td>PAIDOFF</td>\n",
       "      <td>1000</td>\n",
       "      <td>30</td>\n",
       "      <td>2016-09-09</td>\n",
       "      <td>2016-10-08</td>\n",
       "      <td>28</td>\n",
       "      <td>college</td>\n",
       "      <td>female</td>\n",
       "    </tr>\n",
       "    <tr>\n",
       "      <th>4</th>\n",
       "      <td>6</td>\n",
       "      <td>6</td>\n",
       "      <td>PAIDOFF</td>\n",
       "      <td>1000</td>\n",
       "      <td>30</td>\n",
       "      <td>2016-09-09</td>\n",
       "      <td>2016-10-08</td>\n",
       "      <td>29</td>\n",
       "      <td>college</td>\n",
       "      <td>male</td>\n",
       "    </tr>\n",
       "  </tbody>\n",
       "</table>\n",
       "</div>"
      ],
      "text/plain": [
       "   Unnamed: 0  Unnamed: 0.1 loan_status  Principal  terms effective_date  \\\n",
       "0           0             0     PAIDOFF       1000     30     2016-09-08   \n",
       "1           2             2     PAIDOFF       1000     30     2016-09-08   \n",
       "2           3             3     PAIDOFF       1000     15     2016-09-08   \n",
       "3           4             4     PAIDOFF       1000     30     2016-09-09   \n",
       "4           6             6     PAIDOFF       1000     30     2016-09-09   \n",
       "\n",
       "    due_date  age             education  Gender  \n",
       "0 2016-10-07   45  High School or Below    male  \n",
       "1 2016-10-07   33              Bechalor  female  \n",
       "2 2016-09-22   27               college    male  \n",
       "3 2016-10-08   28               college  female  \n",
       "4 2016-10-08   29               college    male  "
      ]
     },
     "execution_count": 5,
     "metadata": {},
     "output_type": "execute_result"
    }
   ],
   "source": [
    "df['due_date'] = pd.to_datetime(df['due_date'])\n",
    "df['effective_date'] = pd.to_datetime(df['effective_date'])\n",
    "df.head()"
   ]
  },
  {
   "cell_type": "markdown",
   "id": "08b8f5e0",
   "metadata": {
    "button": false,
    "new_sheet": false,
    "papermill": {
     "duration": 0.05165,
     "end_time": "2022-03-10T13:09:06.762465",
     "exception": false,
     "start_time": "2022-03-10T13:09:06.710815",
     "status": "completed"
    },
    "run_control": {
     "read_only": false
    },
    "tags": []
   },
   "source": [
    "# Data visualization and pre-processing\n"
   ]
  },
  {
   "cell_type": "markdown",
   "id": "deb2c17b",
   "metadata": {
    "button": false,
    "new_sheet": false,
    "papermill": {
     "duration": 0.051985,
     "end_time": "2022-03-10T13:09:06.866088",
     "exception": false,
     "start_time": "2022-03-10T13:09:06.814103",
     "status": "completed"
    },
    "run_control": {
     "read_only": false
    },
    "tags": []
   },
   "source": [
    "Let’s see how many of each class is in our data set\n"
   ]
  },
  {
   "cell_type": "code",
   "execution_count": 6,
   "id": "24c1721d",
   "metadata": {
    "button": false,
    "execution": {
     "iopub.execute_input": "2022-03-10T13:09:06.978030Z",
     "iopub.status.busy": "2022-03-10T13:09:06.977064Z",
     "iopub.status.idle": "2022-03-10T13:09:06.983099Z",
     "shell.execute_reply": "2022-03-10T13:09:06.983510Z",
     "shell.execute_reply.started": "2022-03-10T13:07:24.531082Z"
    },
    "new_sheet": false,
    "papermill": {
     "duration": 0.066144,
     "end_time": "2022-03-10T13:09:06.983730",
     "exception": false,
     "start_time": "2022-03-10T13:09:06.917586",
     "status": "completed"
    },
    "run_control": {
     "read_only": false
    },
    "tags": []
   },
   "outputs": [
    {
     "data": {
      "text/plain": [
       "PAIDOFF       260\n",
       "COLLECTION     86\n",
       "Name: loan_status, dtype: int64"
      ]
     },
     "execution_count": 6,
     "metadata": {},
     "output_type": "execute_result"
    }
   ],
   "source": [
    "df['loan_status'].value_counts()"
   ]
  },
  {
   "cell_type": "markdown",
   "id": "2ff83536",
   "metadata": {
    "button": false,
    "new_sheet": false,
    "papermill": {
     "duration": 0.053715,
     "end_time": "2022-03-10T13:09:07.088947",
     "exception": false,
     "start_time": "2022-03-10T13:09:07.035232",
     "status": "completed"
    },
    "run_control": {
     "read_only": false
    },
    "tags": []
   },
   "source": [
    "260 people have paid off the loan on time while 86 have gone into collection\n"
   ]
  },
  {
   "cell_type": "markdown",
   "id": "30d32115",
   "metadata": {
    "papermill": {
     "duration": 0.054672,
     "end_time": "2022-03-10T13:09:07.195805",
     "exception": false,
     "start_time": "2022-03-10T13:09:07.141133",
     "status": "completed"
    },
    "tags": []
   },
   "source": [
    "Let's plot some columns to underestand data better:\n"
   ]
  },
  {
   "cell_type": "code",
   "execution_count": 7,
   "id": "ac10cd21",
   "metadata": {
    "execution": {
     "iopub.execute_input": "2022-03-10T13:09:07.304013Z",
     "iopub.status.busy": "2022-03-10T13:09:07.303370Z",
     "iopub.status.idle": "2022-03-10T13:10:01.422012Z",
     "shell.execute_reply": "2022-03-10T13:10:01.421144Z",
     "shell.execute_reply.started": "2022-03-10T13:07:24.544081Z"
    },
    "papermill": {
     "duration": 54.174949,
     "end_time": "2022-03-10T13:10:01.422186",
     "exception": false,
     "start_time": "2022-03-10T13:09:07.247237",
     "status": "completed"
    },
    "tags": []
   },
   "outputs": [
    {
     "name": "stdout",
     "output_type": "stream",
     "text": [
      "Collecting package metadata (current_repodata.json): - \b\b\\ \b\b| \b\b/ \b\b- \b\b\\ \b\b| \b\b/ \b\b- \b\b\\ \b\b| \b\b/ \b\b- \b\b\\ \b\b| \b\b/ \b\b- \b\b\\ \b\b| \b\b/ \b\b- \b\b\\ \b\b| \b\b/ \b\b- \b\b\\ \b\b| \b\b/ \b\b- \b\b\\ \b\b| \b\b/ \b\b- \b\b\\ \b\b| \b\b/ \b\b- \b\b\\ \b\b| \b\b/ \b\b- \b\b\\ \b\b| \b\b/ \b\b- \b\b\\ \b\b| \b\b/ \b\b- \b\b\\ \b\b| \b\b/ \b\b- \b\b\\ \b\b| \b\b/ \b\b- \b\b\\ \b\b| \b\b/ \b\b- \b\b\\ \b\b| \b\b/ \b\b- \b\b\\ \b\b| \b\b/ \b\b- \b\b\\ \b\b| \b\b/ \b\b- \b\b\\ \b\b| \b\b/ \b\b- \b\b\\ \b\b| \b\b/ \b\b- \b\b\\ \b\b| \b\b/ \b\b- \b\b\\ \b\b| \b\b/ \b\b- \b\b\\ \b\b| \b\b/ \b\b- \b\b\\ \b\b| \b\b/ \b\b- \b\b\\ \b\b| \b\b/ \b\b- \b\b\\ \b\b| \b\b/ \b\b- \b\b\\ \b\b| \b\b/ \b\b- \b\b\\ \b\b| \b\b/ \b\b- \b\b\\ \b\b| \b\b/ \b\b- \b\b\\ \b\b| \b\b/ \b\b- \b\b\\ \b\b| \b\b/ \b\b- \b\b\\ \b\b| \b\b/ \b\b- \b\b\\ \b\b| \b\b/ \b\b- \b\b\\ \b\bdone\r\n",
      "Solving environment: / \b\b- \b\b\\ \b\b| \b\b/ \b\b- \b\b\\ \b\b| \b\b/ \b\b- \b\b\\ \b\b| \b\b/ \b\b- \b\b\\ \b\b| \b\b/ \b\b- \b\b\\ \b\b| \b\b/ \b\b- \b\b\\ \b\b| \b\b/ \b\b- \b\b\\ \b\b| \b\b/ \b\b- \b\b\\ \b\b| \b\b/ \b\b- \b\b\\ \b\b| \b\b/ \b\b- \b\b\\ \b\b| \b\b/ \b\b- \b\b\\ \b\b| \b\b/ \b\b- \b\b\\ \b\b| \b\b/ \b\b- \b\b\\ \b\b| \b\b/ \b\b- \b\b\\ \b\b| \b\b/ \b\b- \b\b\\ \b\b| \b\b/ \b\b- \b\b\\ \b\b| \b\b/ \b\b- \b\b\\ \b\b| \b\b/ \b\b- \b\b\\ \b\b| \b\b/ \b\b- \b\b\\ \b\b| \b\b/ \b\b- \b\b\\ \b\b| \b\b/ \b\b- \b\b\\ \b\bdone\r\n",
      "\r\n",
      "## Package Plan ##\r\n",
      "\r\n",
      "  environment location: /opt/conda\r\n",
      "\r\n",
      "  added / updated specs:\r\n",
      "    - seaborn\r\n",
      "\r\n",
      "\r\n",
      "The following packages will be downloaded:\r\n",
      "\r\n",
      "    package                    |            build\r\n",
      "    ---------------------------|-----------------\r\n",
      "    ca-certificates-2020.10.14 |                0         128 KB  anaconda\r\n",
      "    certifi-2020.6.20          |           py37_0         159 KB  anaconda\r\n",
      "    conda-4.11.0               |   py37h89c1867_1         983 KB  conda-forge\r\n",
      "    ------------------------------------------------------------\r\n",
      "                                           Total:         1.2 MB\r\n",
      "\r\n",
      "The following packages will be UPDATED:\r\n",
      "\r\n",
      "  conda                               4.11.0-py37h89c1867_0 --> 4.11.0-py37h89c1867_1\r\n",
      "\r\n",
      "The following packages will be SUPERSEDED by a higher-priority channel:\r\n",
      "\r\n",
      "  ca-certificates    conda-forge::ca-certificates-2021.10.~ --> anaconda::ca-certificates-2020.10.14-0\r\n",
      "  certifi            conda-forge::certifi-2021.10.8-py37h8~ --> anaconda::certifi-2020.6.20-py37_0\r\n",
      "\r\n",
      "\r\n",
      "\r\n",
      "Downloading and Extracting Packages\r\n",
      "certifi-2020.6.20    | 159 KB    | ##################################### | 100% \r\n",
      "conda-4.11.0         | 983 KB    | ##################################### | 100% \r\n",
      "ca-certificates-2020 | 128 KB    | ##################################### | 100% \r\n",
      "Preparing transaction: / \b\bdone\r\n",
      "Verifying transaction: \\ \b\bdone\r\n",
      "Executing transaction: / \b\b- \b\b\\ \b\b| \b\b/ \b\b- \b\b\\ \b\b| \b\b/ \b\b- \b\b\\ \b\b| \b\b/ \b\b- \b\b\\ \b\b| \b\b/ \b\b- \b\b\\ \b\b| \b\b/ \b\b- \b\b\\ \b\b| \b\b/ \b\b- \b\b\\ \b\b| \b\b/ \b\b- \b\bdone\r\n"
     ]
    }
   ],
   "source": [
    "# notice: installing seaborn might takes a few minutes\n",
    "!conda install -c anaconda seaborn -y"
   ]
  },
  {
   "cell_type": "code",
   "execution_count": 8,
   "id": "094311f0",
   "metadata": {
    "execution": {
     "iopub.execute_input": "2022-03-10T13:10:01.675538Z",
     "iopub.status.busy": "2022-03-10T13:10:01.674913Z",
     "iopub.status.idle": "2022-03-10T13:10:02.304988Z",
     "shell.execute_reply": "2022-03-10T13:10:02.305426Z",
     "shell.execute_reply.started": "2022-03-10T13:08:23.520372Z"
    },
    "papermill": {
     "duration": 0.758238,
     "end_time": "2022-03-10T13:10:02.305626",
     "exception": false,
     "start_time": "2022-03-10T13:10:01.547388",
     "status": "completed"
    },
    "tags": []
   },
   "outputs": [
    {
     "data": {
      "image/png": "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\n",
      "text/plain": [
       "<Figure size 432x216 with 2 Axes>"
      ]
     },
     "metadata": {
      "needs_background": "light"
     },
     "output_type": "display_data"
    }
   ],
   "source": [
    "import seaborn as sns\n",
    "\n",
    "bins = np.linspace(df.Principal.min(), df.Principal.max(), 10)\n",
    "g = sns.FacetGrid(df, col=\"Gender\", hue=\"loan_status\", palette=\"Set1\", col_wrap=2)\n",
    "g.map(plt.hist, 'Principal', bins=bins, ec=\"k\")\n",
    "\n",
    "g.axes[-1].legend()\n",
    "plt.show()"
   ]
  },
  {
   "cell_type": "code",
   "execution_count": 9,
   "id": "45239f29",
   "metadata": {
    "button": false,
    "execution": {
     "iopub.execute_input": "2022-03-10T13:10:02.580718Z",
     "iopub.status.busy": "2022-03-10T13:10:02.579643Z",
     "iopub.status.idle": "2022-03-10T13:10:03.015352Z",
     "shell.execute_reply": "2022-03-10T13:10:03.015914Z",
     "shell.execute_reply.started": "2022-03-10T13:08:24.160882Z"
    },
    "new_sheet": false,
    "papermill": {
     "duration": 0.584804,
     "end_time": "2022-03-10T13:10:03.016100",
     "exception": false,
     "start_time": "2022-03-10T13:10:02.431296",
     "status": "completed"
    },
    "run_control": {
     "read_only": false
    },
    "tags": []
   },
   "outputs": [
    {
     "data": {
      "image/png": "iVBORw0KGgoAAAANSUhEUgAAAagAAADQCAYAAABStPXYAAAAOXRFWHRTb2Z0d2FyZQBNYXRwbG90bGliIHZlcnNpb24zLjUuMSwgaHR0cHM6Ly9tYXRwbG90bGliLm9yZy/YYfK9AAAACXBIWXMAAAsTAAALEwEAmpwYAAAZeElEQVR4nO3de5QU5bnv8e8PGB0UiRdmw8gIMxokYsBRZ0eNmo0kctje0K0hGreBdTghGrywovGSmKyT7Vleoksxx9vmRAMrOyKabJBNVmIQ4SCJt0FBQBIlOpoxIBc1yhGIyHP+6JpZIwxMz1AzXd3z+6xVq7veqn77eZl+ebreqq5XEYGZmVnW9Ch0AGZmZq1xgjIzs0xygjIzs0xygjIzs0xygjIzs0xygjIzs0xygkqZpP6SHpb0uqSlkp6RdF5KdY+UNC+NurqCpEWS6godhxVWKfUJSRWSnpP0kqRTO/F9NndW3cXECSpFkgTMARZHxOERcTxwIVBVoHh6FeJ9zZqUYJ/4MrAiIo6NiKfTiMl2zwkqXaOAv0fEA00FEfFmRPxvAEk9Jd0u6QVJL0v6VlI+Mjna+KWkP0r6RdKxkTQmKXsR+JemeiXtL+khSc8n3+bGJuUTJM2V9BSwYG8aI2m6pPslPZt8+x2ZvOdqSdNb7He/pHpJqyT9aDd1jU6+Ob8o6TFJffYmNisaJdMnJNUCPwbGSlomqffuPteSGiTdkuxXL+k4SU9I+rOkS5N9+khakLx2RVO8rbzvd1v8+7Tav0pWRHhJaQGuBO7aw/ZJwI3J832BeqAGGAn8jdy3yh7AM8ApQDnwF2AIIOBRYF7y+puBf02eHwi8CuwPTAAagYN3E8PTwLJWlq+0su904JHkvccCHwDDkxiXArXJfgcnjz2BRcCIZH0RUAf0AxYD+yfl1wE/LPTfy0vnLyXYJyYA9yTPd/u5BhqAy5LndwEvAwcAFcA7SXkvoG+LutYAStY3J4+jgWlJW3sA84AvFfrv2lWLh4A6kaR7yXWqv0fEP5L7sI2QdEGyy2fIdbS/A89HRGPyumVANbAZeCMiXkvK/4Nchyap6xxJ1yTr5cCg5Pn8iHi3tZgior3j5v8VESFpBbmOtSKJZVUS4zJgnKRJ5DpcJTCMXIdscmJS9vvkS/A+5P7DsW6mRPpEk7Y+13OTxxVAn4j4EPhQ0jZJBwL/D7hZ0peAHcBAoD+wrkUdo5PlpWS9D7l/n8UdjLmoOEGlaxVwftNKREyW1I/ct0LIfQu6IiKeaPkiSSOBbS2KPqHtv42A8yPiTzvVdQK5D37rL5KeJvdNbmfXRMSTrZQ3xbVjpxh3AL0k1QDXAP8YEe8lQ3/lrcQ6PyIu2kN7rDSVYp9o+X57+lzvse8AF5M7ojo+Ij6W1EDrfeeWiPj3PcRRsnwOKl1PAeWSLmtRtl+L508Al0kqA5B0pKT991DfH4FqSUck6y07whPAFS3G5Y/NJ8CIODUialtZ9tQR96Qvuc7/N0n9gX9uZZ9ngZMlfTaJdX9JR3bw/ay4lHKf2NvP9WeA9UlyOg0Y3Mo+TwD/vcW5rYGS/qEd71HUfASVomQo7FzgLknXAhvI/ed9XbLLT8kNU7yYdKINwLl7qG9rMnT2a0kfkRsrb/qmdxMwFXhZUg/gDeCslJvUpohYLuklcv9x/AX4fSv7bJA0AZgpad+k+EZy5wishJVyn0jhc/0L4L+S4fN6cn1o5/f4naSjgGeSvLsZ+Fdg/V6GXxSaTsiZmZlliof4zMwsk5ygzMwsk5ygzMwsk5ygzMwsk7o0QY0ZMyYAL166y9Ih7ideuuHSqi5NUBs3buzKtzMrSu4nZjke4jMzs0xygjIzs0xygjIzs0zyrY7MrOR9/PHHNDY2snXr1kKH0q2Vl5dTVVVFWVlZXvs7QZlZyWtsbOSAAw6gurqa5J521sUigk2bNtHY2EhNTU1er/EQn5mVvK1bt3LIIYc4ORWQJA455JB2HcU6QXWxwZWVSEplGVxZWejmmBUNJ6fCa+/fwEN8XeytdetoPLQqlbqq/tqYSj1mZlnkIygz63bSHMnIdzSjZ8+e1NbW8vnPf56vfvWrfPTRRwBs376diooKrr/++k/tP3LkSOrrcxMPV1dXM3z4cIYPH86wYcO48cYbPzVUtmrVKkaNGsXQoUMZMmQIN910E01TKU2fPp2Kigpqa2upra3lG9/4BgATJkygpqamufwnP/lJKv+2afIRlJl1O2mOZEB+oxm9e/dm2bJlAFx88cU88MADfOc732H+/PkceeSRPPbYY9xyyy27HQZbuHAh/fr1Y/PmzUyaNIlvfetbzJgxgy1btnDOOedw//33M3r0aD766CPOP/987rvvPiZPngzA1772Ne65555d6rz99tu54IILOt7wTuYjKDOzLnbqqaeyZs0aAGbOnMlVV13FoEGDeOaZZ9p8bZ8+fXjggQeYM2cO7777Lg8//DAnn3wyo0ePBmC//fbjnnvu4dZbb+3UNnQFJygzsy60fft2fvOb3zB8+HC2bt3Kk08+ydlnn81FF13EzJkz86qjb9++1NTU8Nprr7Fq1SqOP/74T20/4ogj2Lx5Mx988AEAs2bNah7K+9nPfta833e/+93m8hUrVqTXyJR4iM/MrAts2bKF2tpaIHcENXHiRObOnctpp51G7969Of/887npppuYOnUqPXv2bLO+pnNM+SjWIb68EpSkBuBD4BNge0TUSToYmAVUAw3AuIh4r3PCNDMrbi3PQTWZOXMmS5Ysobq6GoBNmzbx1FNPcfrpp++xrg8//JCGhgaOPPJIhg0bxuLFiz+1/fXXX6dPnz707ds3zSZ0ufYM8Z0WEbURUZesXw8siIghwIJk3czM8vDBBx/w9NNP89Zbb9HQ0EBDQwP33ntvm8N8mzdv5tvf/jbnnnsuBx10EBdffDFLlizhySefBHJHaldeeSXXXnttVzSjU+3NEN9YYGTyfAawCLhuL+MxM+t0gwYMSPV3hIMGDGj3a2bPns2oUaPYd999m8vGjh3Ltddey7Zt23bZ/7TTTiMi2LFjB+eddx4/+MEPgNyR2eOPP84VV1zB5MmT+eSTT7jkkku4/PLLO96gjFA+45iS3gDeIzfz4b9HxDRJ70fEgcl2Ae81re/02knAJIBBgwYd/+abb6YXfRGSlOoPddszDm1dLu+fzbufdK7Vq1dz1FFHFToMY7d/i1b7Sr5DfKdExHHAPwOTJX2p5cbI/S/Z6v+UETEtIuoioq6ioiLPtzPrXtxPzHaVV4KKiLeTx/XAbOALwDuSKgGSx/WdFaSZmXU/bSYoSftLOqDpOTAaWAnMBcYnu40HHu+sIM3MrPvJ5yKJ/sDs5PYbvYCHI+K3kl4AHpU0EXgTGNd5YZqZWXfTZoKKiNeBY1op3wR8uTOCMjMz862OzMwsk5ygzKzbObRqUKrTbRxaNajN91y3bh0XXnghRxxxBMcffzxnnHEGr776aptTZbT2e6bq6mo2btz4qbKdp9Wora3llVdeAeDVV1/ljDPOYMiQIRx33HGMGzfuU/fn69OnD0OHDm2ejmPRokWcddZZzXXPmTOHESNGcNRRRzF8+HDmzJnTvG3ChAkMHDiw+bdbGzdubL4zxt7yvfjyMLiykrfWrSt0GGaWkrVv/4UTfvjb1Op77t/G7HF7RHDeeecxfvx4HnnkEQCWL1/OO++8w4QJE/Y4VUZ7tHbPva1bt3LmmWdy5513cvbZZwOwaNEi+vXr13zrpZEjR3LHHXdQV1fXvL3J8uXLueaaa5g/fz41NTW88cYbnH766Rx++OGMGDECyM119dBDD3HZZZe1O+Y9cYLKg2fBNbO9sXDhQsrKyrj00kuby4455hgefPDBVqfKGDlyZIcSVGsefvhhTjrppObkBLmElK877riD733ve9TU1ABQU1PDDTfcwO23387Pf/5zAKZMmcJdd93FN7/5zVRibuIhPjOzTrZy5cpdpsQA8poqoz1aDtvV1tayZcuW3b53vlqLsa6ujlWrVjWvDxo0iFNOOaU5YaXFR1BmZiVid9NqdIUbbriBsWPHcuaZZ6ZWp4+gzMw62dFHH83SpUt3KR82bNgu5WlPlbG7985XazEuXbqUo48++lNlQ4YMoba2lkcffbTD77UzJygzs042atQotm3bxrRp05rLXn75ZYYOHdrpU2V8/etf5w9/+AO//vWvm8sWL17MypUr83r9Nddcwy233EJDQwMADQ0N3HzzzVx99dW77Pv973+fO+64I5W4wUN8ZtYNVQ48rM0r79pb355IYvbs2UyZMoXbbruN8vJyqqurmTp1aptTZUyfPv1Tl3U/++yzAIwYMYIePXLHGOPGjWPEiBHMmjWLJUuWNO9733338cUvfpF58+YxZcoUpkyZQllZGSNGjODuu+/Oq221tbXcdtttnH322Xz88ceUlZXx4x//uHl24JaOPvpojjvuOF588cW86m5LXtNtpKWuri7q6+u77P3SkvYUGZ5uo9vIe7qNloq1n2SZp9vIjs6YbsPMzKxLOUGZmVkmOUGZWbfg4fDCa+/fwAnKzEpeeXk5mzZtcpIqoIhg06ZNlJeX5/0aX8VnZiWvqqqKxsZGNmzYUOhQurXy8nKqqvK/SMwJqojtS+4KwzQMGjCAN9euTaUus6wpKytrvpecFQ8nqCK2DXwTWzMrWXmfg5LUU9JLkuYl6zWSnpO0RtIsSft0XphmZtbdtOciiauA1S3WbwPuiojPAu8BE9MMzMzMure8EpSkKuBM4KfJuoBRwC+TXWYA53ZCfGZm1k3lewQ1FbgW2JGsHwK8HxHbk/VGYGBrL5Q0SVK9pHpfQWPWOvcTs121maAknQWsj4gO3a89IqZFRF1E1FVUVHSkCrOS535itqt8ruI7GThH0hlAOdAXuBs4UFKv5CiqCni788I0M7Pups0jqIi4ISKqIqIauBB4KiIuBhYCFyS7jQce77Qozcys29mbWx1dB3xH0hpy56QeTCckMzOzdv5QNyIWAYuS568DX0g/JDMzM98s1szMMsoJyszMMskJyszMMskJyszMMskJyszMMskJyszMMskJyszMMskJyszMMskJyszMMskJyszMMskJyszMMskJyszMMskJyszMMskJyszMMskJyszMMskJyszMMskJyszMMskJyszMMqnNBCWpXNLzkpZLWiXpR0l5jaTnJK2RNEvSPp0frpmZdRf5HEFtA0ZFxDFALTBG0onAbcBdEfFZ4D1gYqdFaWZm3U6bCSpyNierZckSwCjgl0n5DODczgjQzMy6p7zOQUnqKWkZsB6YD/wZeD8itie7NAIDd/PaSZLqJdVv2LAhhZDNSo/7idmu8kpQEfFJRNQCVcAXgM/l+wYRMS0i6iKirqKiomNRmpU49xOzXbXrKr6IeB9YCJwEHCipV7KpCng73dDMzKw7y+cqvgpJBybPewOnA6vJJaoLkt3GA493UoxmZtYN9Wp7FyqBGZJ6kktoj0bEPEmvAI9I+l/AS8CDnRinmZl1M20mqIh4GTi2lfLXyZ2PMjMzS53vJGFmZpnkBGVmZpnkBGVmZpnkBGVmZplUsglqcGUlklJZzMys6+VzmXlRemvdOhoPrUqlrqq/NqZSj5mZ5a9kj6DMzKy4OUGZmVkmOUGZmVkmOUGZmVkmOUGZmVkmOUGZmVkmOUGZmVkmOUGZmVkmOUGZmVkmOUGZmVkmOUGZmVkmtZmgJB0maaGkVyStknRVUn6wpPmSXkseD+r8cM3MrLvI5whqO3B1RAwDTgQmSxoGXA8siIghwIJk3czMLBVtJqiIWBsRLybPPwRWAwOBscCMZLcZwLmdFKOZmXVD7ToHJakaOBZ4DugfEWuTTeuA/rt5zSRJ9ZLqN2zYsDexmpUs9xOzXeWdoCT1AX4FTImID1pui4gAorXXRcS0iKiLiLqKioq9CtasVLmfmO0qrwQlqYxccvpFRPxnUvyOpMpkeyWwvnNCNDOz7iifq/gEPAisjog7W2yaC4xPno8HHk8/POsq+8Iep71vzzK4srLQzTGzEpDPlO8nA5cAKyQtS8q+B9wKPCppIvAmMK5TIrQusQ1oPLQqlbqq/tqYSj1m1r21maAiYgmg3Wz+crrhZJN6lqX2n6567ZNeXT3LUqnHzCyL8jmC6vbik4854Ye/TaWu5/5tTKp1mZmVKt/qyMzMMskJyszMMskJyszMMskJyszMMskJyszMMskJyszMMskJyszMMskJyszMMskJyszMMqlk7ySR5u2JzMys65Vsgkr79kRmZta1PMRnZmaZ5ARlZmaZ5ARlZmaZVLLnoLqDVOep8txSljGDKyt5a926VOrq3aMnW3Z8kkpdgwYM4M21a1Opy/bMCaqI+UIQK2VvrVuX6izPnjG6+LQ5xCfpIUnrJa1sUXawpPmSXkseD+rcMM3MrLvJ5xzUdGDnr9fXAwsiYgiwIFk3A2BfQFIqy+DKykI3x8wKpM0hvohYLKl6p+KxwMjk+QxgEXBdmoFZ8doGHk4xs73W0av4+kdE01nCdUD/3e0oaZKkekn1GzZs6ODbmZW2UukngysrUzt6NtvriyQiIiTFHrZPA6YB1NXV7XY/s+6sVPpJ2hc2WPfW0SOodyRVAiSP69MLyczMrOMJai4wPnk+Hng8nXDMzMxy8rnMfCbwDDBUUqOkicCtwOmSXgO+kqybmZmlJp+r+C7azaYvpxyLmZlZs0zdi89XAJmZWZNM3erIVwCZmVmTTCUoKxzfeNbMssYJygDfeNbMsidT56DMzMyaOEGZmVkmOUGZmVkmOUGZmVkmOUFZpnluqc7n3x9aVvkqPss0zy3V+fz7Q8sqJyhLnX9TZWZpcIKy1Pk3VWaWBp+DMjOzTPIRlGVamsOFPXqWpXoif9CAAby5dm1q9ZWCVId3e+3joeJ2GFxZyVvr1qVSV1Y+205QlmlpDxemdTEA+IKA1qT99/JQcf5K8WIXD/GZmVkmZeoIKs3hATMzK26ZSlC++svMzJrsVYKSNAa4G+gJ/DQibk0lKrNOkPYReiFPvKd5QtzaJ82LbXr0KmPH9o9TqasUdThBSeoJ3AucDjQCL0iaGxGvpBWcWZrSPEKHwh6ll+IJ8WKxI6MX7pTi33FvLpL4ArAmIl6PiL8DjwBj0wnLzMy6O0VEx14oXQCMiYj/kaxfApwQEZfvtN8kYFKyOhT4U8fD/ZR+wMaU6sqCUmpPKbUFOt6ejRGR12GW+0ne3J5sS7WvdPpFEhExDZiWdr2S6iOiLu16C6WU2lNKbYGuaY/7SX7cnmxLuz17M8T3NnBYi/WqpMzMzGyv7U2CegEYIqlG0j7AhcDcdMIyM7PursNDfBGxXdLlwBPkLjN/KCJWpRZZ21IfDimwUmpPKbUFirs9xRx7a9yebEu1PR2+SMLMzKwz+V58ZmaWSU5QZmaWSZlPUJIOk7RQ0iuSVkm6Kik/WNJ8Sa8ljwcVOtZ8SCqX9Lyk5Ul7fpSU10h6TtIaSbOSC0+KhqSekl6SNC9ZL9r2SGqQtELSMkn1SVnmP2/uK9nnftI+mU9QwHbg6ogYBpwITJY0DLgeWBARQ4AFyXox2AaMiohjgFpgjKQTgduAuyLis8B7wMTChdghVwGrW6wXe3tOi4jaFr/pKIbPm/tK9rmftEdEFNUCPE7u/n9/AiqTskrgT4WOrQNt2Q94ETiB3K+veyXlJwFPFDq+drSjKvkwjgLmASry9jQA/XYqK7rPm/tKthb3k/YvxXAE1UxSNXAs8BzQPyKa5iReB/QvVFztlRzmLwPWA/OBPwPvR8T2ZJdGYGCBwuuIqcC1wI5k/RCKuz0B/E7S0uQWRFBknzf3lUyaivtJu2RqPqg9kdQH+BUwJSI+aHm7+4gISUVzvXxEfALUSjoQmA18rrARdZyks4D1EbFU0sgCh5OWUyLibUn/AMyX9MeWG7P+eXNfyR73k44pigQlqYxch/tFRPxnUvyOpMqIWCupktw3rKISEe9LWkju0P5ASb2Sb1PFdNuok4FzJJ0BlAN9yc0RVqztISLeTh7XS5pN7s79RfF5c1/JLPeTDsj8EJ9yX/8eBFZHxJ0tNs0FxifPx5Mbb888SRXJt0Ek9SZ3jmA1sBC4INmtaNoTETdERFVEVJO73dVTEXExRdoeSftLOqDpOTAaWEkRfN7cV7LL/aSDCn2iLY8TcaeQG+t8GViWLGeQG79dALwGPAkcXOhY82zPCOClpD0rgR8m5YcDzwNrgMeAfQsdawfaNhKYV8ztSeJeniyrgO8n5Zn/vLmvFMfifpL/4lsdmZlZJmV+iM/MzLonJygzM8skJygzM8skJygzM8skJygzM8skJygzM8skJygzM8skJ6gSIGlOcsPGVU03bZQ0UdKryXw6/0fSPUl5haRfSXohWU4ubPRmXcd9pbj4h7olQNLBEfFucjuYF4D/BvweOA74EHgKWB4Rl0t6GLgvIpZIGkTu9v5HFSx4sy7kvlJciuJmsdamKyWdlzw/DLgE+L8R8S6ApMeAI5PtXwGGtbjDdV9JfSJic1cGbFYg7itFxAmqyCW37v8KcFJEfCRpEfBHYHff9HoAJ0bE1i4J0Cwj3FeKj89BFb/PAO8lHe5z5Kb63h/4J0kHSeoFnN9i/98BVzStSKrtymDNCsh9pcg4QRW/3wK9JK0GbgWeJTenzM3k7pL8e3JTM/8t2f9KoE7Sy5JeAS7t8ojNCsN9pcj4IokS1TRWnnwrnA08FBGzCx2XWda4r2SXj6BK1/+UtIzcPDpvAHMKGo1ZdrmvZJSPoMzMLJN8BGVmZpnkBGVmZpnkBGVmZpnkBGVmZpnkBGVmZpn0/wH2yWB0APC77wAAAABJRU5ErkJggg==\n",
      "text/plain": [
       "<Figure size 432x216 with 2 Axes>"
      ]
     },
     "metadata": {
      "needs_background": "light"
     },
     "output_type": "display_data"
    }
   ],
   "source": [
    "bins = np.linspace(df.age.min(), df.age.max(), 10)\n",
    "g = sns.FacetGrid(df, col=\"Gender\", hue=\"loan_status\", palette=\"Set1\", col_wrap=2)\n",
    "g.map(plt.hist, 'age', bins=bins, ec=\"k\")\n",
    "\n",
    "g.axes[-1].legend()\n",
    "plt.show()"
   ]
  },
  {
   "cell_type": "markdown",
   "id": "4eb358a5",
   "metadata": {
    "button": false,
    "new_sheet": false,
    "papermill": {
     "duration": 0.124435,
     "end_time": "2022-03-10T13:10:03.270127",
     "exception": false,
     "start_time": "2022-03-10T13:10:03.145692",
     "status": "completed"
    },
    "run_control": {
     "read_only": false
    },
    "tags": []
   },
   "source": [
    "# Pre-processing:  Feature selection/extraction\n"
   ]
  },
  {
   "cell_type": "markdown",
   "id": "b0bb4bae",
   "metadata": {
    "button": false,
    "new_sheet": false,
    "papermill": {
     "duration": 0.12684,
     "end_time": "2022-03-10T13:10:03.522341",
     "exception": false,
     "start_time": "2022-03-10T13:10:03.395501",
     "status": "completed"
    },
    "run_control": {
     "read_only": false
    },
    "tags": []
   },
   "source": [
    "### Let's look at the day of the week people get the loan\n"
   ]
  },
  {
   "cell_type": "code",
   "execution_count": 10,
   "id": "6b0ef0e2",
   "metadata": {
    "button": false,
    "execution": {
     "iopub.execute_input": "2022-03-10T13:10:03.772745Z",
     "iopub.status.busy": "2022-03-10T13:10:03.772108Z",
     "iopub.status.idle": "2022-03-10T13:10:04.208663Z",
     "shell.execute_reply": "2022-03-10T13:10:04.207992Z",
     "shell.execute_reply.started": "2022-03-10T13:08:24.598695Z"
    },
    "new_sheet": false,
    "papermill": {
     "duration": 0.561993,
     "end_time": "2022-03-10T13:10:04.208812",
     "exception": false,
     "start_time": "2022-03-10T13:10:03.646819",
     "status": "completed"
    },
    "run_control": {
     "read_only": false
    },
    "tags": []
   },
   "outputs": [
    {
     "data": {
      "image/png": "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\n",
      "text/plain": [
       "<Figure size 432x216 with 2 Axes>"
      ]
     },
     "metadata": {
      "needs_background": "light"
     },
     "output_type": "display_data"
    }
   ],
   "source": [
    "df['dayofweek'] = df['effective_date'].dt.dayofweek\n",
    "bins = np.linspace(df.dayofweek.min(), df.dayofweek.max(), 10)\n",
    "g = sns.FacetGrid(df, col=\"Gender\", hue=\"loan_status\", palette=\"Set1\", col_wrap=2)\n",
    "g.map(plt.hist, 'dayofweek', bins=bins, ec=\"k\")\n",
    "g.axes[-1].legend()\n",
    "plt.show()\n"
   ]
  },
  {
   "cell_type": "markdown",
   "id": "4291d530",
   "metadata": {
    "button": false,
    "new_sheet": false,
    "papermill": {
     "duration": 0.123279,
     "end_time": "2022-03-10T13:10:04.462138",
     "exception": false,
     "start_time": "2022-03-10T13:10:04.338859",
     "status": "completed"
    },
    "run_control": {
     "read_only": false
    },
    "tags": []
   },
   "source": [
    "We see that people who get the loan at the end of the week don't pay it off, so let's use Feature binarization to set a threshold value less than day 4\n"
   ]
  },
  {
   "cell_type": "code",
   "execution_count": 11,
   "id": "e7b05d61",
   "metadata": {
    "button": false,
    "execution": {
     "iopub.execute_input": "2022-03-10T13:10:04.722283Z",
     "iopub.status.busy": "2022-03-10T13:10:04.721521Z",
     "iopub.status.idle": "2022-03-10T13:10:04.737721Z",
     "shell.execute_reply": "2022-03-10T13:10:04.738247Z",
     "shell.execute_reply.started": "2022-03-10T13:08:24.981712Z"
    },
    "new_sheet": false,
    "papermill": {
     "duration": 0.14839,
     "end_time": "2022-03-10T13:10:04.738495",
     "exception": false,
     "start_time": "2022-03-10T13:10:04.590105",
     "status": "completed"
    },
    "run_control": {
     "read_only": false
    },
    "tags": []
   },
   "outputs": [
    {
     "data": {
      "text/html": [
       "<div>\n",
       "<style scoped>\n",
       "    .dataframe tbody tr th:only-of-type {\n",
       "        vertical-align: middle;\n",
       "    }\n",
       "\n",
       "    .dataframe tbody tr th {\n",
       "        vertical-align: top;\n",
       "    }\n",
       "\n",
       "    .dataframe thead th {\n",
       "        text-align: right;\n",
       "    }\n",
       "</style>\n",
       "<table border=\"1\" class=\"dataframe\">\n",
       "  <thead>\n",
       "    <tr style=\"text-align: right;\">\n",
       "      <th></th>\n",
       "      <th>Unnamed: 0</th>\n",
       "      <th>Unnamed: 0.1</th>\n",
       "      <th>loan_status</th>\n",
       "      <th>Principal</th>\n",
       "      <th>terms</th>\n",
       "      <th>effective_date</th>\n",
       "      <th>due_date</th>\n",
       "      <th>age</th>\n",
       "      <th>education</th>\n",
       "      <th>Gender</th>\n",
       "      <th>dayofweek</th>\n",
       "      <th>weekend</th>\n",
       "    </tr>\n",
       "  </thead>\n",
       "  <tbody>\n",
       "    <tr>\n",
       "      <th>0</th>\n",
       "      <td>0</td>\n",
       "      <td>0</td>\n",
       "      <td>PAIDOFF</td>\n",
       "      <td>1000</td>\n",
       "      <td>30</td>\n",
       "      <td>2016-09-08</td>\n",
       "      <td>2016-10-07</td>\n",
       "      <td>45</td>\n",
       "      <td>High School or Below</td>\n",
       "      <td>male</td>\n",
       "      <td>3</td>\n",
       "      <td>0</td>\n",
       "    </tr>\n",
       "    <tr>\n",
       "      <th>1</th>\n",
       "      <td>2</td>\n",
       "      <td>2</td>\n",
       "      <td>PAIDOFF</td>\n",
       "      <td>1000</td>\n",
       "      <td>30</td>\n",
       "      <td>2016-09-08</td>\n",
       "      <td>2016-10-07</td>\n",
       "      <td>33</td>\n",
       "      <td>Bechalor</td>\n",
       "      <td>female</td>\n",
       "      <td>3</td>\n",
       "      <td>0</td>\n",
       "    </tr>\n",
       "    <tr>\n",
       "      <th>2</th>\n",
       "      <td>3</td>\n",
       "      <td>3</td>\n",
       "      <td>PAIDOFF</td>\n",
       "      <td>1000</td>\n",
       "      <td>15</td>\n",
       "      <td>2016-09-08</td>\n",
       "      <td>2016-09-22</td>\n",
       "      <td>27</td>\n",
       "      <td>college</td>\n",
       "      <td>male</td>\n",
       "      <td>3</td>\n",
       "      <td>0</td>\n",
       "    </tr>\n",
       "    <tr>\n",
       "      <th>3</th>\n",
       "      <td>4</td>\n",
       "      <td>4</td>\n",
       "      <td>PAIDOFF</td>\n",
       "      <td>1000</td>\n",
       "      <td>30</td>\n",
       "      <td>2016-09-09</td>\n",
       "      <td>2016-10-08</td>\n",
       "      <td>28</td>\n",
       "      <td>college</td>\n",
       "      <td>female</td>\n",
       "      <td>4</td>\n",
       "      <td>1</td>\n",
       "    </tr>\n",
       "    <tr>\n",
       "      <th>4</th>\n",
       "      <td>6</td>\n",
       "      <td>6</td>\n",
       "      <td>PAIDOFF</td>\n",
       "      <td>1000</td>\n",
       "      <td>30</td>\n",
       "      <td>2016-09-09</td>\n",
       "      <td>2016-10-08</td>\n",
       "      <td>29</td>\n",
       "      <td>college</td>\n",
       "      <td>male</td>\n",
       "      <td>4</td>\n",
       "      <td>1</td>\n",
       "    </tr>\n",
       "  </tbody>\n",
       "</table>\n",
       "</div>"
      ],
      "text/plain": [
       "   Unnamed: 0  Unnamed: 0.1 loan_status  Principal  terms effective_date  \\\n",
       "0           0             0     PAIDOFF       1000     30     2016-09-08   \n",
       "1           2             2     PAIDOFF       1000     30     2016-09-08   \n",
       "2           3             3     PAIDOFF       1000     15     2016-09-08   \n",
       "3           4             4     PAIDOFF       1000     30     2016-09-09   \n",
       "4           6             6     PAIDOFF       1000     30     2016-09-09   \n",
       "\n",
       "    due_date  age             education  Gender  dayofweek  weekend  \n",
       "0 2016-10-07   45  High School or Below    male          3        0  \n",
       "1 2016-10-07   33              Bechalor  female          3        0  \n",
       "2 2016-09-22   27               college    male          3        0  \n",
       "3 2016-10-08   28               college  female          4        1  \n",
       "4 2016-10-08   29               college    male          4        1  "
      ]
     },
     "execution_count": 11,
     "metadata": {},
     "output_type": "execute_result"
    }
   ],
   "source": [
    "df['weekend'] = df['dayofweek'].apply(lambda x: 1 if (x>3)  else 0)\n",
    "df.head()"
   ]
  },
  {
   "cell_type": "markdown",
   "id": "e8290264",
   "metadata": {
    "button": false,
    "new_sheet": false,
    "papermill": {
     "duration": 0.128077,
     "end_time": "2022-03-10T13:10:04.994996",
     "exception": false,
     "start_time": "2022-03-10T13:10:04.866919",
     "status": "completed"
    },
    "run_control": {
     "read_only": false
    },
    "tags": []
   },
   "source": [
    "## Convert Categorical features to numerical values\n"
   ]
  },
  {
   "cell_type": "markdown",
   "id": "6f792537",
   "metadata": {
    "button": false,
    "new_sheet": false,
    "papermill": {
     "duration": 0.124077,
     "end_time": "2022-03-10T13:10:05.245699",
     "exception": false,
     "start_time": "2022-03-10T13:10:05.121622",
     "status": "completed"
    },
    "run_control": {
     "read_only": false
    },
    "tags": []
   },
   "source": [
    "Let's look at gender:\n"
   ]
  },
  {
   "cell_type": "code",
   "execution_count": 12,
   "id": "ae76eafe",
   "metadata": {
    "button": false,
    "execution": {
     "iopub.execute_input": "2022-03-10T13:10:05.502347Z",
     "iopub.status.busy": "2022-03-10T13:10:05.501727Z",
     "iopub.status.idle": "2022-03-10T13:10:05.514182Z",
     "shell.execute_reply": "2022-03-10T13:10:05.514683Z",
     "shell.execute_reply.started": "2022-03-10T13:08:25.002009Z"
    },
    "new_sheet": false,
    "papermill": {
     "duration": 0.14264,
     "end_time": "2022-03-10T13:10:05.514874",
     "exception": false,
     "start_time": "2022-03-10T13:10:05.372234",
     "status": "completed"
    },
    "run_control": {
     "read_only": false
    },
    "tags": []
   },
   "outputs": [
    {
     "data": {
      "text/plain": [
       "Gender  loan_status\n",
       "female  PAIDOFF        0.865385\n",
       "        COLLECTION     0.134615\n",
       "male    PAIDOFF        0.731293\n",
       "        COLLECTION     0.268707\n",
       "Name: loan_status, dtype: float64"
      ]
     },
     "execution_count": 12,
     "metadata": {},
     "output_type": "execute_result"
    }
   ],
   "source": [
    "df.groupby(['Gender'])['loan_status'].value_counts(normalize=True)"
   ]
  },
  {
   "cell_type": "markdown",
   "id": "d21ae2e7",
   "metadata": {
    "button": false,
    "new_sheet": false,
    "papermill": {
     "duration": 0.124579,
     "end_time": "2022-03-10T13:10:05.766339",
     "exception": false,
     "start_time": "2022-03-10T13:10:05.641760",
     "status": "completed"
    },
    "run_control": {
     "read_only": false
    },
    "tags": []
   },
   "source": [
    "86 % of female pay there loans while only 73 % of males pay there loan\n"
   ]
  },
  {
   "cell_type": "markdown",
   "id": "1e24c5ce",
   "metadata": {
    "button": false,
    "new_sheet": false,
    "papermill": {
     "duration": 0.132442,
     "end_time": "2022-03-10T13:10:06.029371",
     "exception": false,
     "start_time": "2022-03-10T13:10:05.896929",
     "status": "completed"
    },
    "run_control": {
     "read_only": false
    },
    "tags": []
   },
   "source": [
    "Let's convert male to 0 and female to 1:\n"
   ]
  },
  {
   "cell_type": "code",
   "execution_count": 13,
   "id": "ecc1a818",
   "metadata": {
    "button": false,
    "execution": {
     "iopub.execute_input": "2022-03-10T13:10:06.293170Z",
     "iopub.status.busy": "2022-03-10T13:10:06.292402Z",
     "iopub.status.idle": "2022-03-10T13:10:06.307412Z",
     "shell.execute_reply": "2022-03-10T13:10:06.308150Z",
     "shell.execute_reply.started": "2022-03-10T13:08:25.020487Z"
    },
    "new_sheet": false,
    "papermill": {
     "duration": 0.147165,
     "end_time": "2022-03-10T13:10:06.308371",
     "exception": false,
     "start_time": "2022-03-10T13:10:06.161206",
     "status": "completed"
    },
    "run_control": {
     "read_only": false
    },
    "tags": []
   },
   "outputs": [
    {
     "data": {
      "text/html": [
       "<div>\n",
       "<style scoped>\n",
       "    .dataframe tbody tr th:only-of-type {\n",
       "        vertical-align: middle;\n",
       "    }\n",
       "\n",
       "    .dataframe tbody tr th {\n",
       "        vertical-align: top;\n",
       "    }\n",
       "\n",
       "    .dataframe thead th {\n",
       "        text-align: right;\n",
       "    }\n",
       "</style>\n",
       "<table border=\"1\" class=\"dataframe\">\n",
       "  <thead>\n",
       "    <tr style=\"text-align: right;\">\n",
       "      <th></th>\n",
       "      <th>Unnamed: 0</th>\n",
       "      <th>Unnamed: 0.1</th>\n",
       "      <th>loan_status</th>\n",
       "      <th>Principal</th>\n",
       "      <th>terms</th>\n",
       "      <th>effective_date</th>\n",
       "      <th>due_date</th>\n",
       "      <th>age</th>\n",
       "      <th>education</th>\n",
       "      <th>Gender</th>\n",
       "      <th>dayofweek</th>\n",
       "      <th>weekend</th>\n",
       "    </tr>\n",
       "  </thead>\n",
       "  <tbody>\n",
       "    <tr>\n",
       "      <th>0</th>\n",
       "      <td>0</td>\n",
       "      <td>0</td>\n",
       "      <td>PAIDOFF</td>\n",
       "      <td>1000</td>\n",
       "      <td>30</td>\n",
       "      <td>2016-09-08</td>\n",
       "      <td>2016-10-07</td>\n",
       "      <td>45</td>\n",
       "      <td>High School or Below</td>\n",
       "      <td>0</td>\n",
       "      <td>3</td>\n",
       "      <td>0</td>\n",
       "    </tr>\n",
       "    <tr>\n",
       "      <th>1</th>\n",
       "      <td>2</td>\n",
       "      <td>2</td>\n",
       "      <td>PAIDOFF</td>\n",
       "      <td>1000</td>\n",
       "      <td>30</td>\n",
       "      <td>2016-09-08</td>\n",
       "      <td>2016-10-07</td>\n",
       "      <td>33</td>\n",
       "      <td>Bechalor</td>\n",
       "      <td>1</td>\n",
       "      <td>3</td>\n",
       "      <td>0</td>\n",
       "    </tr>\n",
       "    <tr>\n",
       "      <th>2</th>\n",
       "      <td>3</td>\n",
       "      <td>3</td>\n",
       "      <td>PAIDOFF</td>\n",
       "      <td>1000</td>\n",
       "      <td>15</td>\n",
       "      <td>2016-09-08</td>\n",
       "      <td>2016-09-22</td>\n",
       "      <td>27</td>\n",
       "      <td>college</td>\n",
       "      <td>0</td>\n",
       "      <td>3</td>\n",
       "      <td>0</td>\n",
       "    </tr>\n",
       "    <tr>\n",
       "      <th>3</th>\n",
       "      <td>4</td>\n",
       "      <td>4</td>\n",
       "      <td>PAIDOFF</td>\n",
       "      <td>1000</td>\n",
       "      <td>30</td>\n",
       "      <td>2016-09-09</td>\n",
       "      <td>2016-10-08</td>\n",
       "      <td>28</td>\n",
       "      <td>college</td>\n",
       "      <td>1</td>\n",
       "      <td>4</td>\n",
       "      <td>1</td>\n",
       "    </tr>\n",
       "    <tr>\n",
       "      <th>4</th>\n",
       "      <td>6</td>\n",
       "      <td>6</td>\n",
       "      <td>PAIDOFF</td>\n",
       "      <td>1000</td>\n",
       "      <td>30</td>\n",
       "      <td>2016-09-09</td>\n",
       "      <td>2016-10-08</td>\n",
       "      <td>29</td>\n",
       "      <td>college</td>\n",
       "      <td>0</td>\n",
       "      <td>4</td>\n",
       "      <td>1</td>\n",
       "    </tr>\n",
       "  </tbody>\n",
       "</table>\n",
       "</div>"
      ],
      "text/plain": [
       "   Unnamed: 0  Unnamed: 0.1 loan_status  Principal  terms effective_date  \\\n",
       "0           0             0     PAIDOFF       1000     30     2016-09-08   \n",
       "1           2             2     PAIDOFF       1000     30     2016-09-08   \n",
       "2           3             3     PAIDOFF       1000     15     2016-09-08   \n",
       "3           4             4     PAIDOFF       1000     30     2016-09-09   \n",
       "4           6             6     PAIDOFF       1000     30     2016-09-09   \n",
       "\n",
       "    due_date  age             education  Gender  dayofweek  weekend  \n",
       "0 2016-10-07   45  High School or Below       0          3        0  \n",
       "1 2016-10-07   33              Bechalor       1          3        0  \n",
       "2 2016-09-22   27               college       0          3        0  \n",
       "3 2016-10-08   28               college       1          4        1  \n",
       "4 2016-10-08   29               college       0          4        1  "
      ]
     },
     "execution_count": 13,
     "metadata": {},
     "output_type": "execute_result"
    }
   ],
   "source": [
    "df['Gender'].replace(to_replace=['male','female'], value=[0,1],inplace=True)\n",
    "df.head()"
   ]
  },
  {
   "cell_type": "markdown",
   "id": "16b81075",
   "metadata": {
    "button": false,
    "new_sheet": false,
    "papermill": {
     "duration": 0.125212,
     "end_time": "2022-03-10T13:10:06.559206",
     "exception": false,
     "start_time": "2022-03-10T13:10:06.433994",
     "status": "completed"
    },
    "run_control": {
     "read_only": false
    },
    "tags": []
   },
   "source": [
    "## One Hot Encoding\n",
    "\n",
    "#### How about education?\n"
   ]
  },
  {
   "cell_type": "code",
   "execution_count": 14,
   "id": "86c5fa5a",
   "metadata": {
    "button": false,
    "execution": {
     "iopub.execute_input": "2022-03-10T13:10:06.817654Z",
     "iopub.status.busy": "2022-03-10T13:10:06.817027Z",
     "iopub.status.idle": "2022-03-10T13:10:06.825609Z",
     "shell.execute_reply": "2022-03-10T13:10:06.826113Z",
     "shell.execute_reply.started": "2022-03-10T13:08:25.038017Z"
    },
    "new_sheet": false,
    "papermill": {
     "duration": 0.139424,
     "end_time": "2022-03-10T13:10:06.826288",
     "exception": false,
     "start_time": "2022-03-10T13:10:06.686864",
     "status": "completed"
    },
    "run_control": {
     "read_only": false
    },
    "tags": []
   },
   "outputs": [
    {
     "data": {
      "text/plain": [
       "education             loan_status\n",
       "Bechalor              PAIDOFF        0.750000\n",
       "                      COLLECTION     0.250000\n",
       "High School or Below  PAIDOFF        0.741722\n",
       "                      COLLECTION     0.258278\n",
       "Master or Above       COLLECTION     0.500000\n",
       "                      PAIDOFF        0.500000\n",
       "college               PAIDOFF        0.765101\n",
       "                      COLLECTION     0.234899\n",
       "Name: loan_status, dtype: float64"
      ]
     },
     "execution_count": 14,
     "metadata": {},
     "output_type": "execute_result"
    }
   ],
   "source": [
    "df.groupby(['education'])['loan_status'].value_counts(normalize=True)"
   ]
  },
  {
   "cell_type": "markdown",
   "id": "79a1d0bd",
   "metadata": {
    "button": false,
    "new_sheet": false,
    "papermill": {
     "duration": 0.127469,
     "end_time": "2022-03-10T13:10:07.077455",
     "exception": false,
     "start_time": "2022-03-10T13:10:06.949986",
     "status": "completed"
    },
    "run_control": {
     "read_only": false
    },
    "tags": []
   },
   "source": [
    "#### Features before One Hot Encoding\n"
   ]
  },
  {
   "cell_type": "code",
   "execution_count": 15,
   "id": "c1a9d6fd",
   "metadata": {
    "button": false,
    "execution": {
     "iopub.execute_input": "2022-03-10T13:10:07.331189Z",
     "iopub.status.busy": "2022-03-10T13:10:07.330538Z",
     "iopub.status.idle": "2022-03-10T13:10:07.341044Z",
     "shell.execute_reply": "2022-03-10T13:10:07.341517Z",
     "shell.execute_reply.started": "2022-03-10T13:08:25.049092Z"
    },
    "new_sheet": false,
    "papermill": {
     "duration": 0.139336,
     "end_time": "2022-03-10T13:10:07.341714",
     "exception": false,
     "start_time": "2022-03-10T13:10:07.202378",
     "status": "completed"
    },
    "run_control": {
     "read_only": false
    },
    "tags": []
   },
   "outputs": [
    {
     "data": {
      "text/html": [
       "<div>\n",
       "<style scoped>\n",
       "    .dataframe tbody tr th:only-of-type {\n",
       "        vertical-align: middle;\n",
       "    }\n",
       "\n",
       "    .dataframe tbody tr th {\n",
       "        vertical-align: top;\n",
       "    }\n",
       "\n",
       "    .dataframe thead th {\n",
       "        text-align: right;\n",
       "    }\n",
       "</style>\n",
       "<table border=\"1\" class=\"dataframe\">\n",
       "  <thead>\n",
       "    <tr style=\"text-align: right;\">\n",
       "      <th></th>\n",
       "      <th>Principal</th>\n",
       "      <th>terms</th>\n",
       "      <th>age</th>\n",
       "      <th>Gender</th>\n",
       "      <th>education</th>\n",
       "    </tr>\n",
       "  </thead>\n",
       "  <tbody>\n",
       "    <tr>\n",
       "      <th>0</th>\n",
       "      <td>1000</td>\n",
       "      <td>30</td>\n",
       "      <td>45</td>\n",
       "      <td>0</td>\n",
       "      <td>High School or Below</td>\n",
       "    </tr>\n",
       "    <tr>\n",
       "      <th>1</th>\n",
       "      <td>1000</td>\n",
       "      <td>30</td>\n",
       "      <td>33</td>\n",
       "      <td>1</td>\n",
       "      <td>Bechalor</td>\n",
       "    </tr>\n",
       "    <tr>\n",
       "      <th>2</th>\n",
       "      <td>1000</td>\n",
       "      <td>15</td>\n",
       "      <td>27</td>\n",
       "      <td>0</td>\n",
       "      <td>college</td>\n",
       "    </tr>\n",
       "    <tr>\n",
       "      <th>3</th>\n",
       "      <td>1000</td>\n",
       "      <td>30</td>\n",
       "      <td>28</td>\n",
       "      <td>1</td>\n",
       "      <td>college</td>\n",
       "    </tr>\n",
       "    <tr>\n",
       "      <th>4</th>\n",
       "      <td>1000</td>\n",
       "      <td>30</td>\n",
       "      <td>29</td>\n",
       "      <td>0</td>\n",
       "      <td>college</td>\n",
       "    </tr>\n",
       "  </tbody>\n",
       "</table>\n",
       "</div>"
      ],
      "text/plain": [
       "   Principal  terms  age  Gender             education\n",
       "0       1000     30   45       0  High School or Below\n",
       "1       1000     30   33       1              Bechalor\n",
       "2       1000     15   27       0               college\n",
       "3       1000     30   28       1               college\n",
       "4       1000     30   29       0               college"
      ]
     },
     "execution_count": 15,
     "metadata": {},
     "output_type": "execute_result"
    }
   ],
   "source": [
    "df[['Principal','terms','age','Gender','education']].head()"
   ]
  },
  {
   "cell_type": "markdown",
   "id": "8c87cfe0",
   "metadata": {
    "button": false,
    "new_sheet": false,
    "papermill": {
     "duration": 0.123339,
     "end_time": "2022-03-10T13:10:07.591232",
     "exception": false,
     "start_time": "2022-03-10T13:10:07.467893",
     "status": "completed"
    },
    "run_control": {
     "read_only": false
    },
    "tags": []
   },
   "source": [
    "#### Use one hot encoding technique to conver categorical varables to binary variables and append them to the feature Data Frame\n"
   ]
  },
  {
   "cell_type": "code",
   "execution_count": 16,
   "id": "2787118d",
   "metadata": {
    "button": false,
    "execution": {
     "iopub.execute_input": "2022-03-10T13:10:07.840489Z",
     "iopub.status.busy": "2022-03-10T13:10:07.839917Z",
     "iopub.status.idle": "2022-03-10T13:10:07.855650Z",
     "shell.execute_reply": "2022-03-10T13:10:07.855136Z",
     "shell.execute_reply.started": "2022-03-10T13:08:25.061310Z"
    },
    "new_sheet": false,
    "papermill": {
     "duration": 0.141933,
     "end_time": "2022-03-10T13:10:07.855804",
     "exception": false,
     "start_time": "2022-03-10T13:10:07.713871",
     "status": "completed"
    },
    "run_control": {
     "read_only": false
    },
    "tags": []
   },
   "outputs": [
    {
     "data": {
      "text/html": [
       "<div>\n",
       "<style scoped>\n",
       "    .dataframe tbody tr th:only-of-type {\n",
       "        vertical-align: middle;\n",
       "    }\n",
       "\n",
       "    .dataframe tbody tr th {\n",
       "        vertical-align: top;\n",
       "    }\n",
       "\n",
       "    .dataframe thead th {\n",
       "        text-align: right;\n",
       "    }\n",
       "</style>\n",
       "<table border=\"1\" class=\"dataframe\">\n",
       "  <thead>\n",
       "    <tr style=\"text-align: right;\">\n",
       "      <th></th>\n",
       "      <th>Principal</th>\n",
       "      <th>terms</th>\n",
       "      <th>age</th>\n",
       "      <th>Gender</th>\n",
       "      <th>weekend</th>\n",
       "      <th>Bechalor</th>\n",
       "      <th>High School or Below</th>\n",
       "      <th>college</th>\n",
       "    </tr>\n",
       "  </thead>\n",
       "  <tbody>\n",
       "    <tr>\n",
       "      <th>0</th>\n",
       "      <td>1000</td>\n",
       "      <td>30</td>\n",
       "      <td>45</td>\n",
       "      <td>0</td>\n",
       "      <td>0</td>\n",
       "      <td>0</td>\n",
       "      <td>1</td>\n",
       "      <td>0</td>\n",
       "    </tr>\n",
       "    <tr>\n",
       "      <th>1</th>\n",
       "      <td>1000</td>\n",
       "      <td>30</td>\n",
       "      <td>33</td>\n",
       "      <td>1</td>\n",
       "      <td>0</td>\n",
       "      <td>1</td>\n",
       "      <td>0</td>\n",
       "      <td>0</td>\n",
       "    </tr>\n",
       "    <tr>\n",
       "      <th>2</th>\n",
       "      <td>1000</td>\n",
       "      <td>15</td>\n",
       "      <td>27</td>\n",
       "      <td>0</td>\n",
       "      <td>0</td>\n",
       "      <td>0</td>\n",
       "      <td>0</td>\n",
       "      <td>1</td>\n",
       "    </tr>\n",
       "    <tr>\n",
       "      <th>3</th>\n",
       "      <td>1000</td>\n",
       "      <td>30</td>\n",
       "      <td>28</td>\n",
       "      <td>1</td>\n",
       "      <td>1</td>\n",
       "      <td>0</td>\n",
       "      <td>0</td>\n",
       "      <td>1</td>\n",
       "    </tr>\n",
       "    <tr>\n",
       "      <th>4</th>\n",
       "      <td>1000</td>\n",
       "      <td>30</td>\n",
       "      <td>29</td>\n",
       "      <td>0</td>\n",
       "      <td>1</td>\n",
       "      <td>0</td>\n",
       "      <td>0</td>\n",
       "      <td>1</td>\n",
       "    </tr>\n",
       "  </tbody>\n",
       "</table>\n",
       "</div>"
      ],
      "text/plain": [
       "   Principal  terms  age  Gender  weekend  Bechalor  High School or Below  \\\n",
       "0       1000     30   45       0        0         0                     1   \n",
       "1       1000     30   33       1        0         1                     0   \n",
       "2       1000     15   27       0        0         0                     0   \n",
       "3       1000     30   28       1        1         0                     0   \n",
       "4       1000     30   29       0        1         0                     0   \n",
       "\n",
       "   college  \n",
       "0        0  \n",
       "1        0  \n",
       "2        1  \n",
       "3        1  \n",
       "4        1  "
      ]
     },
     "execution_count": 16,
     "metadata": {},
     "output_type": "execute_result"
    }
   ],
   "source": [
    "Feature = df[['Principal','terms','age','Gender','weekend']]\n",
    "Feature = pd.concat([Feature,pd.get_dummies(df['education'])], axis=1)\n",
    "Feature.drop(['Master or Above'], axis = 1,inplace=True)\n",
    "Feature.head()\n"
   ]
  },
  {
   "cell_type": "markdown",
   "id": "149db78d",
   "metadata": {
    "button": false,
    "new_sheet": false,
    "papermill": {
     "duration": 0.160207,
     "end_time": "2022-03-10T13:10:08.142366",
     "exception": false,
     "start_time": "2022-03-10T13:10:07.982159",
     "status": "completed"
    },
    "run_control": {
     "read_only": false
    },
    "tags": []
   },
   "source": [
    "### Feature Selection\n"
   ]
  },
  {
   "cell_type": "markdown",
   "id": "d949e095",
   "metadata": {
    "button": false,
    "new_sheet": false,
    "papermill": {
     "duration": 0.134036,
     "end_time": "2022-03-10T13:10:08.407384",
     "exception": false,
     "start_time": "2022-03-10T13:10:08.273348",
     "status": "completed"
    },
    "run_control": {
     "read_only": false
    },
    "tags": []
   },
   "source": [
    "Let's define feature sets, X:\n"
   ]
  },
  {
   "cell_type": "code",
   "execution_count": 17,
   "id": "1a2cd13a",
   "metadata": {
    "button": false,
    "execution": {
     "iopub.execute_input": "2022-03-10T13:10:08.702071Z",
     "iopub.status.busy": "2022-03-10T13:10:08.701344Z",
     "iopub.status.idle": "2022-03-10T13:10:08.709223Z",
     "shell.execute_reply": "2022-03-10T13:10:08.709997Z",
     "shell.execute_reply.started": "2022-03-10T13:08:25.084523Z"
    },
    "new_sheet": false,
    "papermill": {
     "duration": 0.174284,
     "end_time": "2022-03-10T13:10:08.710275",
     "exception": false,
     "start_time": "2022-03-10T13:10:08.535991",
     "status": "completed"
    },
    "run_control": {
     "read_only": false
    },
    "tags": []
   },
   "outputs": [
    {
     "data": {
      "text/html": [
       "<div>\n",
       "<style scoped>\n",
       "    .dataframe tbody tr th:only-of-type {\n",
       "        vertical-align: middle;\n",
       "    }\n",
       "\n",
       "    .dataframe tbody tr th {\n",
       "        vertical-align: top;\n",
       "    }\n",
       "\n",
       "    .dataframe thead th {\n",
       "        text-align: right;\n",
       "    }\n",
       "</style>\n",
       "<table border=\"1\" class=\"dataframe\">\n",
       "  <thead>\n",
       "    <tr style=\"text-align: right;\">\n",
       "      <th></th>\n",
       "      <th>Principal</th>\n",
       "      <th>terms</th>\n",
       "      <th>age</th>\n",
       "      <th>Gender</th>\n",
       "      <th>weekend</th>\n",
       "      <th>Bechalor</th>\n",
       "      <th>High School or Below</th>\n",
       "      <th>college</th>\n",
       "    </tr>\n",
       "  </thead>\n",
       "  <tbody>\n",
       "    <tr>\n",
       "      <th>0</th>\n",
       "      <td>1000</td>\n",
       "      <td>30</td>\n",
       "      <td>45</td>\n",
       "      <td>0</td>\n",
       "      <td>0</td>\n",
       "      <td>0</td>\n",
       "      <td>1</td>\n",
       "      <td>0</td>\n",
       "    </tr>\n",
       "    <tr>\n",
       "      <th>1</th>\n",
       "      <td>1000</td>\n",
       "      <td>30</td>\n",
       "      <td>33</td>\n",
       "      <td>1</td>\n",
       "      <td>0</td>\n",
       "      <td>1</td>\n",
       "      <td>0</td>\n",
       "      <td>0</td>\n",
       "    </tr>\n",
       "    <tr>\n",
       "      <th>2</th>\n",
       "      <td>1000</td>\n",
       "      <td>15</td>\n",
       "      <td>27</td>\n",
       "      <td>0</td>\n",
       "      <td>0</td>\n",
       "      <td>0</td>\n",
       "      <td>0</td>\n",
       "      <td>1</td>\n",
       "    </tr>\n",
       "    <tr>\n",
       "      <th>3</th>\n",
       "      <td>1000</td>\n",
       "      <td>30</td>\n",
       "      <td>28</td>\n",
       "      <td>1</td>\n",
       "      <td>1</td>\n",
       "      <td>0</td>\n",
       "      <td>0</td>\n",
       "      <td>1</td>\n",
       "    </tr>\n",
       "    <tr>\n",
       "      <th>4</th>\n",
       "      <td>1000</td>\n",
       "      <td>30</td>\n",
       "      <td>29</td>\n",
       "      <td>0</td>\n",
       "      <td>1</td>\n",
       "      <td>0</td>\n",
       "      <td>0</td>\n",
       "      <td>1</td>\n",
       "    </tr>\n",
       "  </tbody>\n",
       "</table>\n",
       "</div>"
      ],
      "text/plain": [
       "   Principal  terms  age  Gender  weekend  Bechalor  High School or Below  \\\n",
       "0       1000     30   45       0        0         0                     1   \n",
       "1       1000     30   33       1        0         1                     0   \n",
       "2       1000     15   27       0        0         0                     0   \n",
       "3       1000     30   28       1        1         0                     0   \n",
       "4       1000     30   29       0        1         0                     0   \n",
       "\n",
       "   college  \n",
       "0        0  \n",
       "1        0  \n",
       "2        1  \n",
       "3        1  \n",
       "4        1  "
      ]
     },
     "execution_count": 17,
     "metadata": {},
     "output_type": "execute_result"
    }
   ],
   "source": [
    "X = Feature\n",
    "X[0:5]"
   ]
  },
  {
   "cell_type": "markdown",
   "id": "fd18c511",
   "metadata": {
    "button": false,
    "new_sheet": false,
    "papermill": {
     "duration": 0.155478,
     "end_time": "2022-03-10T13:10:09.017141",
     "exception": false,
     "start_time": "2022-03-10T13:10:08.861663",
     "status": "completed"
    },
    "run_control": {
     "read_only": false
    },
    "tags": []
   },
   "source": [
    "What are our lables?\n"
   ]
  },
  {
   "cell_type": "code",
   "execution_count": 18,
   "id": "d924e93f",
   "metadata": {
    "button": false,
    "execution": {
     "iopub.execute_input": "2022-03-10T13:10:09.276841Z",
     "iopub.status.busy": "2022-03-10T13:10:09.276162Z",
     "iopub.status.idle": "2022-03-10T13:10:09.282838Z",
     "shell.execute_reply": "2022-03-10T13:10:09.283301Z",
     "shell.execute_reply.started": "2022-03-10T13:08:25.095835Z"
    },
    "new_sheet": false,
    "papermill": {
     "duration": 0.136546,
     "end_time": "2022-03-10T13:10:09.283489",
     "exception": false,
     "start_time": "2022-03-10T13:10:09.146943",
     "status": "completed"
    },
    "run_control": {
     "read_only": false
    },
    "tags": []
   },
   "outputs": [
    {
     "data": {
      "text/plain": [
       "array(['PAIDOFF', 'PAIDOFF', 'PAIDOFF', 'PAIDOFF', 'PAIDOFF'],\n",
       "      dtype=object)"
      ]
     },
     "execution_count": 18,
     "metadata": {},
     "output_type": "execute_result"
    }
   ],
   "source": [
    "y = df['loan_status'].values\n",
    "y[0:5]"
   ]
  },
  {
   "cell_type": "markdown",
   "id": "0da1b1f1",
   "metadata": {
    "button": false,
    "new_sheet": false,
    "papermill": {
     "duration": 0.127117,
     "end_time": "2022-03-10T13:10:09.541391",
     "exception": false,
     "start_time": "2022-03-10T13:10:09.414274",
     "status": "completed"
    },
    "run_control": {
     "read_only": false
    },
    "tags": []
   },
   "source": [
    "## Normalize Data\n"
   ]
  },
  {
   "cell_type": "markdown",
   "id": "384729d0",
   "metadata": {
    "button": false,
    "new_sheet": false,
    "papermill": {
     "duration": 0.129299,
     "end_time": "2022-03-10T13:10:09.797484",
     "exception": false,
     "start_time": "2022-03-10T13:10:09.668185",
     "status": "completed"
    },
    "run_control": {
     "read_only": false
    },
    "tags": []
   },
   "source": [
    "Data Standardization give data zero mean and unit variance (technically should be done after train test split)\n"
   ]
  },
  {
   "cell_type": "code",
   "execution_count": 19,
   "id": "e766df27",
   "metadata": {
    "button": false,
    "execution": {
     "iopub.execute_input": "2022-03-10T13:10:10.074202Z",
     "iopub.status.busy": "2022-03-10T13:10:10.073259Z",
     "iopub.status.idle": "2022-03-10T13:10:10.083320Z",
     "shell.execute_reply": "2022-03-10T13:10:10.083832Z",
     "shell.execute_reply.started": "2022-03-10T13:08:25.109276Z"
    },
    "new_sheet": false,
    "papermill": {
     "duration": 0.150119,
     "end_time": "2022-03-10T13:10:10.084016",
     "exception": false,
     "start_time": "2022-03-10T13:10:09.933897",
     "status": "completed"
    },
    "run_control": {
     "read_only": false
    },
    "tags": []
   },
   "outputs": [
    {
     "data": {
      "text/plain": [
       "array([[ 0.51578458,  0.92071769,  2.33152555, -0.42056004, -1.20577805,\n",
       "        -0.38170062,  1.13639374, -0.86968108],\n",
       "       [ 0.51578458,  0.92071769,  0.34170148,  2.37778177, -1.20577805,\n",
       "         2.61985426, -0.87997669, -0.86968108],\n",
       "       [ 0.51578458, -0.95911111, -0.65321055, -0.42056004, -1.20577805,\n",
       "        -0.38170062, -0.87997669,  1.14984679],\n",
       "       [ 0.51578458,  0.92071769, -0.48739188,  2.37778177,  0.82934003,\n",
       "        -0.38170062, -0.87997669,  1.14984679],\n",
       "       [ 0.51578458,  0.92071769, -0.3215732 , -0.42056004,  0.82934003,\n",
       "        -0.38170062, -0.87997669,  1.14984679]])"
      ]
     },
     "execution_count": 19,
     "metadata": {},
     "output_type": "execute_result"
    }
   ],
   "source": [
    "X= preprocessing.StandardScaler().fit(X).transform(X)\n",
    "X[0:5]"
   ]
  },
  {
   "cell_type": "markdown",
   "id": "fe952dbb",
   "metadata": {
    "papermill": {
     "duration": 0.130787,
     "end_time": "2022-03-10T13:10:10.343855",
     "exception": false,
     "start_time": "2022-03-10T13:10:10.213068",
     "status": "completed"
    },
    "tags": []
   },
   "source": []
  },
  {
   "cell_type": "markdown",
   "id": "ac5ab4f2",
   "metadata": {
    "button": false,
    "new_sheet": false,
    "papermill": {
     "duration": 0.130752,
     "end_time": "2022-03-10T13:10:10.608760",
     "exception": false,
     "start_time": "2022-03-10T13:10:10.478008",
     "status": "completed"
    },
    "run_control": {
     "read_only": false
    },
    "tags": []
   },
   "source": [
    "# Classification\n"
   ]
  },
  {
   "cell_type": "markdown",
   "id": "aefd9755",
   "metadata": {
    "button": false,
    "new_sheet": false,
    "papermill": {
     "duration": 0.127004,
     "end_time": "2022-03-10T13:10:10.864299",
     "exception": false,
     "start_time": "2022-03-10T13:10:10.737295",
     "status": "completed"
    },
    "run_control": {
     "read_only": false
    },
    "tags": []
   },
   "source": [
    "Now, it is your turn, use the training set to build an accurate model. Then use the test set to report the accuracy of the model\n",
    "You should use the following algorithm:\n",
    "\n",
    "*   K Nearest Neighbor(KNN)\n",
    "*   Decision Tree\n",
    "*   Support Vector Machine\n",
    "*   Logistic Regression\n",
    "\n",
    "\\__ Notice:\\__\n",
    "\n",
    "*   You can go above and change the pre-processing, feature selection, feature-extraction, and so on, to make a better model.\n",
    "*   You should use either scikit-learn, Scipy or Numpy libraries for developing the classification algorithms.\n",
    "*   You should include the code of the algorithm in the following cells.\n"
   ]
  },
  {
   "cell_type": "markdown",
   "id": "d876ae2c",
   "metadata": {
    "papermill": {
     "duration": 0.128915,
     "end_time": "2022-03-10T13:10:11.120287",
     "exception": false,
     "start_time": "2022-03-10T13:10:10.991372",
     "status": "completed"
    },
    "tags": []
   },
   "source": [
    "# K Nearest Neighbor(KNN)\n",
    "\n",
    "Notice: You should find the best k to build the model with the best accuracy.\\\n",
    "**warning:** You should not use the **loan_test.csv** for finding the best k, however, you can split your train_loan.csv into train and test to find the best **k**.\n"
   ]
  },
  {
   "cell_type": "code",
   "execution_count": 20,
   "id": "4427b9a4",
   "metadata": {
    "execution": {
     "iopub.execute_input": "2022-03-10T13:10:11.377278Z",
     "iopub.status.busy": "2022-03-10T13:10:11.376529Z",
     "iopub.status.idle": "2022-03-10T13:10:11.430578Z",
     "shell.execute_reply": "2022-03-10T13:10:11.429897Z",
     "shell.execute_reply.started": "2022-03-10T13:08:25.126221Z"
    },
    "papermill": {
     "duration": 0.184447,
     "end_time": "2022-03-10T13:10:11.430778",
     "exception": false,
     "start_time": "2022-03-10T13:10:11.246331",
     "status": "completed"
    },
    "tags": []
   },
   "outputs": [
    {
     "name": "stdout",
     "output_type": "stream",
     "text": [
      "Train set: (276, 8) (276,)\n",
      "Test set: (70, 8) (70,)\n"
     ]
    }
   ],
   "source": [
    "# import require libraries\n",
    "from sklearn.model_selection import train_test_split\n",
    "# train\n",
    "X_train, X_test, y_train, y_test = train_test_split( X, y, test_size=0.2, random_state=4)\n",
    "print ('Train set:', X_train.shape,  y_train.shape)\n",
    "print ('Test set:', X_test.shape,  y_test.shape)"
   ]
  },
  {
   "cell_type": "code",
   "execution_count": 21,
   "id": "89c8b1a9",
   "metadata": {
    "execution": {
     "iopub.execute_input": "2022-03-10T13:10:11.700921Z",
     "iopub.status.busy": "2022-03-10T13:10:11.700104Z",
     "iopub.status.idle": "2022-03-10T13:10:11.836658Z",
     "shell.execute_reply": "2022-03-10T13:10:11.836085Z",
     "shell.execute_reply.started": "2022-03-10T13:08:25.176797Z"
    },
    "papermill": {
     "duration": 0.271546,
     "end_time": "2022-03-10T13:10:11.836814",
     "exception": false,
     "start_time": "2022-03-10T13:10:11.565268",
     "status": "completed"
    },
    "tags": []
   },
   "outputs": [],
   "source": [
    "# import require libraries\n",
    "from sklearn.neighbors import KNeighborsClassifier\n",
    "from sklearn import metrics"
   ]
  },
  {
   "cell_type": "code",
   "execution_count": 22,
   "id": "67239528",
   "metadata": {
    "execution": {
     "iopub.execute_input": "2022-03-10T13:10:12.116823Z",
     "iopub.status.busy": "2022-03-10T13:10:12.115283Z",
     "iopub.status.idle": "2022-03-10T13:10:12.206800Z",
     "shell.execute_reply": "2022-03-10T13:10:12.207323Z",
     "shell.execute_reply.started": "2022-03-10T13:08:25.295239Z"
    },
    "papermill": {
     "duration": 0.234403,
     "end_time": "2022-03-10T13:10:12.207535",
     "exception": false,
     "start_time": "2022-03-10T13:10:11.973132",
     "status": "completed"
    },
    "tags": []
   },
   "outputs": [
    {
     "name": "stdout",
     "output_type": "stream",
     "text": [
      "The best accuracy was with 0.8 with k =  7\n"
     ]
    }
   ],
   "source": [
    "Ks = 20\n",
    "mean_acc = np.zeros((Ks-1))\n",
    "std_acc = np.zeros((Ks-1))\n",
    "ConfustionMx = [];\n",
    "for n in range(1,Ks):\n",
    "    \n",
    "    #Train Model and Predict  \n",
    "    neigh = KNeighborsClassifier(n_neighbors = n).fit(X_train,y_train)\n",
    "    yhat=neigh.predict(X_test)\n",
    "    mean_acc[n-1] = metrics.accuracy_score(y_test, yhat)\n",
    "\n",
    "    \n",
    "    std_acc[n-1]=np.std(yhat==y_test)/np.sqrt(yhat.shape[0])\n",
    "\n",
    "print(\"The best accuracy was with\", mean_acc.max(), \"with k = \", mean_acc.argmax()+1)"
   ]
  },
  {
   "cell_type": "code",
   "execution_count": 23,
   "id": "a3d6232e",
   "metadata": {
    "execution": {
     "iopub.execute_input": "2022-03-10T13:10:12.477822Z",
     "iopub.status.busy": "2022-03-10T13:10:12.476056Z",
     "iopub.status.idle": "2022-03-10T13:10:12.482786Z",
     "shell.execute_reply": "2022-03-10T13:10:12.482213Z",
     "shell.execute_reply.started": "2022-03-10T13:08:25.397594Z"
    },
    "papermill": {
     "duration": 0.140693,
     "end_time": "2022-03-10T13:10:12.482955",
     "exception": false,
     "start_time": "2022-03-10T13:10:12.342262",
     "status": "completed"
    },
    "tags": []
   },
   "outputs": [
    {
     "name": "stdout",
     "output_type": "stream",
     "text": [
      "The best k is k = 7\n",
      "The best accuracy is 0.8\n"
     ]
    }
   ],
   "source": [
    "# The best k is k=7\n",
    "print('The best k is k =', np.argmax(mean_acc) + 1)\n",
    "print('The best accuracy is', max(mean_acc))"
   ]
  },
  {
   "cell_type": "code",
   "execution_count": 24,
   "id": "dbbb914f",
   "metadata": {
    "execution": {
     "iopub.execute_input": "2022-03-10T13:10:12.748675Z",
     "iopub.status.busy": "2022-03-10T13:10:12.747659Z",
     "iopub.status.idle": "2022-03-10T13:10:12.754954Z",
     "shell.execute_reply": "2022-03-10T13:10:12.755678Z",
     "shell.execute_reply.started": "2022-03-10T13:08:25.405397Z"
    },
    "papermill": {
     "duration": 0.144873,
     "end_time": "2022-03-10T13:10:12.755931",
     "exception": false,
     "start_time": "2022-03-10T13:10:12.611058",
     "status": "completed"
    },
    "tags": []
   },
   "outputs": [
    {
     "name": "stdout",
     "output_type": "stream",
     "text": [
      "Accuracy:  0.7142857142857143\n"
     ]
    }
   ],
   "source": [
    "k = 7\n",
    "neigh7 = KNeighborsClassifier(n_neighbors = k).fit(X_train, y_train)\n",
    "knn_yhat = neigh7.predict(X_test)\n",
    "print(\"Accuracy: \", metrics.accuracy_score(y_test, yhat))"
   ]
  },
  {
   "cell_type": "markdown",
   "id": "5a921431",
   "metadata": {
    "papermill": {
     "duration": 0.133136,
     "end_time": "2022-03-10T13:10:13.021327",
     "exception": false,
     "start_time": "2022-03-10T13:10:12.888191",
     "status": "completed"
    },
    "tags": []
   },
   "source": [
    "# Decision Tree\n"
   ]
  },
  {
   "cell_type": "code",
   "execution_count": 25,
   "id": "d30af9f0",
   "metadata": {
    "execution": {
     "iopub.execute_input": "2022-03-10T13:10:13.283692Z",
     "iopub.status.busy": "2022-03-10T13:10:13.281298Z",
     "iopub.status.idle": "2022-03-10T13:10:13.315297Z",
     "shell.execute_reply": "2022-03-10T13:10:13.315800Z",
     "shell.execute_reply.started": "2022-03-10T13:08:25.423266Z"
    },
    "papermill": {
     "duration": 0.16719,
     "end_time": "2022-03-10T13:10:13.316003",
     "exception": false,
     "start_time": "2022-03-10T13:10:13.148813",
     "status": "completed"
    },
    "tags": []
   },
   "outputs": [],
   "source": [
    "# import require libraries\n",
    "from sklearn.tree import DecisionTreeClassifier\n",
    "from sklearn import metrics"
   ]
  },
  {
   "cell_type": "code",
   "execution_count": 26,
   "id": "ecc7b532",
   "metadata": {
    "execution": {
     "iopub.execute_input": "2022-03-10T13:10:13.583887Z",
     "iopub.status.busy": "2022-03-10T13:10:13.582789Z",
     "iopub.status.idle": "2022-03-10T13:10:13.588706Z",
     "shell.execute_reply": "2022-03-10T13:10:13.589142Z",
     "shell.execute_reply.started": "2022-03-10T13:08:25.453613Z"
    },
    "papermill": {
     "duration": 0.142633,
     "end_time": "2022-03-10T13:10:13.589332",
     "exception": false,
     "start_time": "2022-03-10T13:10:13.446699",
     "status": "completed"
    },
    "tags": []
   },
   "outputs": [
    {
     "name": "stdout",
     "output_type": "stream",
     "text": [
      "predited:  ['COLLECTION' 'COLLECTION' 'PAIDOFF' 'PAIDOFF' 'PAIDOFF']\n",
      "test set:  ['PAIDOFF' 'PAIDOFF' 'PAIDOFF' 'PAIDOFF' 'PAIDOFF']\n",
      "Accuracy:  0.6142857142857143\n"
     ]
    }
   ],
   "source": [
    "modTree = DecisionTreeClassifier(criterion=\"entropy\", max_depth = 4)\n",
    "modTree.fit(X_train, y_train)\n",
    "predTree = modTree.predict(X_test)\n",
    "print(\"predited: \", predTree[0:5])\n",
    "print(\"test set: \", y_test[0:5])\n",
    "print(\"Accuracy: \", metrics.accuracy_score(y_test, predTree))"
   ]
  },
  {
   "cell_type": "markdown",
   "id": "411c40d6",
   "metadata": {
    "papermill": {
     "duration": 0.129796,
     "end_time": "2022-03-10T13:10:13.855208",
     "exception": false,
     "start_time": "2022-03-10T13:10:13.725412",
     "status": "completed"
    },
    "tags": []
   },
   "source": [
    "# Support Vector Machine\n"
   ]
  },
  {
   "cell_type": "code",
   "execution_count": 27,
   "id": "47183019",
   "metadata": {
    "execution": {
     "iopub.execute_input": "2022-03-10T13:10:14.122861Z",
     "iopub.status.busy": "2022-03-10T13:10:14.122169Z",
     "iopub.status.idle": "2022-03-10T13:10:14.124302Z",
     "shell.execute_reply": "2022-03-10T13:10:14.123746Z",
     "shell.execute_reply.started": "2022-03-10T13:08:25.464701Z"
    },
    "papermill": {
     "duration": 0.139027,
     "end_time": "2022-03-10T13:10:14.124449",
     "exception": false,
     "start_time": "2022-03-10T13:10:13.985422",
     "status": "completed"
    },
    "tags": []
   },
   "outputs": [],
   "source": [
    "# import require libraries\n",
    "from sklearn.svm import SVC"
   ]
  },
  {
   "cell_type": "code",
   "execution_count": 28,
   "id": "93d9f52f",
   "metadata": {
    "execution": {
     "iopub.execute_input": "2022-03-10T13:10:14.386201Z",
     "iopub.status.busy": "2022-03-10T13:10:14.385582Z",
     "iopub.status.idle": "2022-03-10T13:10:14.396337Z",
     "shell.execute_reply": "2022-03-10T13:10:14.396833Z",
     "shell.execute_reply.started": "2022-03-10T13:08:25.475531Z"
    },
    "papermill": {
     "duration": 0.145019,
     "end_time": "2022-03-10T13:10:14.397014",
     "exception": false,
     "start_time": "2022-03-10T13:10:14.251995",
     "status": "completed"
    },
    "tags": []
   },
   "outputs": [
    {
     "name": "stdout",
     "output_type": "stream",
     "text": [
      "Predicted:  0.7428571428571429\n"
     ]
    }
   ],
   "source": [
    "clf = SVC(gamma = 'auto')\n",
    "clf.fit(X_train, y_train)\n",
    "clf_pred = clf.predict(X_test)\n",
    "print(\"Predicted: \", metrics.accuracy_score(y_test, clf_pred))"
   ]
  },
  {
   "cell_type": "markdown",
   "id": "d3dc376d",
   "metadata": {
    "papermill": {
     "duration": 0.128745,
     "end_time": "2022-03-10T13:10:14.653111",
     "exception": false,
     "start_time": "2022-03-10T13:10:14.524366",
     "status": "completed"
    },
    "tags": []
   },
   "source": [
    "# Logistic Regression\n"
   ]
  },
  {
   "cell_type": "code",
   "execution_count": 29,
   "id": "9d950583",
   "metadata": {
    "execution": {
     "iopub.execute_input": "2022-03-10T13:10:14.916402Z",
     "iopub.status.busy": "2022-03-10T13:10:14.915450Z",
     "iopub.status.idle": "2022-03-10T13:10:14.919573Z",
     "shell.execute_reply": "2022-03-10T13:10:14.920004Z",
     "shell.execute_reply.started": "2022-03-10T13:08:25.492104Z"
    },
    "papermill": {
     "duration": 0.136157,
     "end_time": "2022-03-10T13:10:14.920193",
     "exception": false,
     "start_time": "2022-03-10T13:10:14.784036",
     "status": "completed"
    },
    "tags": []
   },
   "outputs": [],
   "source": [
    "# import require libraries\n",
    "from sklearn.linear_model import LogisticRegression\n",
    "from sklearn.metrics import confusion_matrix\n",
    "from sklearn.metrics import accuracy_score"
   ]
  },
  {
   "cell_type": "code",
   "execution_count": 30,
   "id": "659e1074",
   "metadata": {
    "execution": {
     "iopub.execute_input": "2022-03-10T13:10:15.182230Z",
     "iopub.status.busy": "2022-03-10T13:10:15.181639Z",
     "iopub.status.idle": "2022-03-10T13:10:15.186316Z",
     "shell.execute_reply": "2022-03-10T13:10:15.186813Z",
     "shell.execute_reply.started": "2022-03-10T13:08:25.498277Z"
    },
    "papermill": {
     "duration": 0.136728,
     "end_time": "2022-03-10T13:10:15.186985",
     "exception": false,
     "start_time": "2022-03-10T13:10:15.050257",
     "status": "completed"
    },
    "tags": []
   },
   "outputs": [],
   "source": [
    "# model fit\n",
    "LR = LogisticRegression(C=0.01, solver='liblinear').fit(X_train,y_train)"
   ]
  },
  {
   "cell_type": "code",
   "execution_count": 31,
   "id": "dce82d8a",
   "metadata": {
    "execution": {
     "iopub.execute_input": "2022-03-10T13:10:15.450226Z",
     "iopub.status.busy": "2022-03-10T13:10:15.449445Z",
     "iopub.status.idle": "2022-03-10T13:10:15.457628Z",
     "shell.execute_reply": "2022-03-10T13:10:15.458184Z",
     "shell.execute_reply.started": "2022-03-10T13:08:25.511704Z"
    },
    "papermill": {
     "duration": 0.143986,
     "end_time": "2022-03-10T13:10:15.458368",
     "exception": false,
     "start_time": "2022-03-10T13:10:15.314382",
     "status": "completed"
    },
    "tags": []
   },
   "outputs": [
    {
     "name": "stdout",
     "output_type": "stream",
     "text": [
      "predicted:  ['PAIDOFF' 'PAIDOFF' 'PAIDOFF' 'PAIDOFF' 'PAIDOFF']\n",
      "test set:  ['PAIDOFF' 'PAIDOFF' 'PAIDOFF' 'PAIDOFF' 'PAIDOFF']\n",
      "proba:  [[0.5034238  0.4965762 ]\n",
      " [0.45206111 0.54793889]\n",
      " [0.30814132 0.69185868]\n",
      " [0.34259428 0.65740572]\n",
      " [0.32025894 0.67974106]]\n",
      "Accuracy:  0.6857142857142857\n"
     ]
    }
   ],
   "source": [
    "# predictions and probabilities\n",
    "LR_yhat = LR.predict(X_test)\n",
    "yhat_proba = LR.predict_proba(X_test)\n",
    "print(\"predicted: \", yhat[0:5])\n",
    "print(\"test set: \", y_test[0:5])\n",
    "print(\"proba: \", yhat_proba[0:5])\n",
    "print(\"Accuracy: \", accuracy_score(y_test, LR_yhat))"
   ]
  },
  {
   "cell_type": "markdown",
   "id": "784eb1e7",
   "metadata": {
    "papermill": {
     "duration": 0.130828,
     "end_time": "2022-03-10T13:10:15.718083",
     "exception": false,
     "start_time": "2022-03-10T13:10:15.587255",
     "status": "completed"
    },
    "tags": []
   },
   "source": [
    "# Model Evaluation using Test set\n"
   ]
  },
  {
   "cell_type": "code",
   "execution_count": 32,
   "id": "d6b2bf2a",
   "metadata": {
    "execution": {
     "iopub.execute_input": "2022-03-10T13:10:15.984585Z",
     "iopub.status.busy": "2022-03-10T13:10:15.983998Z",
     "iopub.status.idle": "2022-03-10T13:10:15.987465Z",
     "shell.execute_reply": "2022-03-10T13:10:15.988175Z",
     "shell.execute_reply.started": "2022-03-10T13:08:25.527348Z"
    },
    "papermill": {
     "duration": 0.138246,
     "end_time": "2022-03-10T13:10:15.988365",
     "exception": false,
     "start_time": "2022-03-10T13:10:15.850119",
     "status": "completed"
    },
    "tags": []
   },
   "outputs": [],
   "source": [
    "from sklearn.metrics import jaccard_score\n",
    "from sklearn.metrics import f1_score\n",
    "from sklearn.metrics import log_loss\n"
   ]
  },
  {
   "cell_type": "markdown",
   "id": "1df38e5e",
   "metadata": {
    "papermill": {
     "duration": 0.129256,
     "end_time": "2022-03-10T13:10:16.250033",
     "exception": false,
     "start_time": "2022-03-10T13:10:16.120777",
     "status": "completed"
    },
    "tags": []
   },
   "source": [
    "First, download and load the test set:\n"
   ]
  },
  {
   "cell_type": "code",
   "execution_count": 33,
   "id": "8d4fa9ba",
   "metadata": {
    "execution": {
     "iopub.execute_input": "2022-03-10T13:10:16.509946Z",
     "iopub.status.busy": "2022-03-10T13:10:16.509284Z",
     "iopub.status.idle": "2022-03-10T13:10:18.019857Z",
     "shell.execute_reply": "2022-03-10T13:10:18.019150Z",
     "shell.execute_reply.started": "2022-03-10T13:08:25.538971Z"
    },
    "papermill": {
     "duration": 1.640839,
     "end_time": "2022-03-10T13:10:18.020014",
     "exception": false,
     "start_time": "2022-03-10T13:10:16.379175",
     "status": "completed"
    },
    "tags": []
   },
   "outputs": [
    {
     "name": "stdout",
     "output_type": "stream",
     "text": [
      "--2022-03-10 13:10:17--  https://s3-api.us-geo.objectstorage.softlayer.net/cf-courses-data/CognitiveClass/ML0101ENv3/labs/loan_test.csv\r\n",
      "Resolving s3-api.us-geo.objectstorage.softlayer.net (s3-api.us-geo.objectstorage.softlayer.net)... 67.228.254.196\r\n",
      "Connecting to s3-api.us-geo.objectstorage.softlayer.net (s3-api.us-geo.objectstorage.softlayer.net)|67.228.254.196|:443... connected.\r\n",
      "HTTP request sent, awaiting response... 200 OK\r\n",
      "Length: 3642 (3.6K) [text/csv]\r\n",
      "Saving to: ‘loan_test.csv’\r\n",
      "\r\n",
      "loan_test.csv       100%[===================>]   3.56K  --.-KB/s    in 0s      \r\n",
      "\r\n",
      "2022-03-10 13:10:17 (586 MB/s) - ‘loan_test.csv’ saved [3642/3642]\r\n",
      "\r\n"
     ]
    }
   ],
   "source": [
    "!wget -O loan_test.csv https://s3-api.us-geo.objectstorage.softlayer.net/cf-courses-data/CognitiveClass/ML0101ENv3/labs/loan_test.csv"
   ]
  },
  {
   "cell_type": "markdown",
   "id": "1b80ddb2",
   "metadata": {
    "button": false,
    "new_sheet": false,
    "papermill": {
     "duration": 0.132035,
     "end_time": "2022-03-10T13:10:18.283159",
     "exception": false,
     "start_time": "2022-03-10T13:10:18.151124",
     "status": "completed"
    },
    "run_control": {
     "read_only": false
    },
    "tags": []
   },
   "source": [
    "### Load Test set for evaluation\n"
   ]
  },
  {
   "cell_type": "code",
   "execution_count": 34,
   "id": "73828d43",
   "metadata": {
    "button": false,
    "execution": {
     "iopub.execute_input": "2022-03-10T13:10:18.550310Z",
     "iopub.status.busy": "2022-03-10T13:10:18.549139Z",
     "iopub.status.idle": "2022-03-10T13:10:18.558041Z",
     "shell.execute_reply": "2022-03-10T13:10:18.558622Z",
     "shell.execute_reply.started": "2022-03-10T13:08:27.043621Z"
    },
    "new_sheet": false,
    "papermill": {
     "duration": 0.144691,
     "end_time": "2022-03-10T13:10:18.558800",
     "exception": false,
     "start_time": "2022-03-10T13:10:18.414109",
     "status": "completed"
    },
    "run_control": {
     "read_only": false
    },
    "tags": []
   },
   "outputs": [
    {
     "data": {
      "text/plain": [
       "array(['PAIDOFF', 'PAIDOFF', 'PAIDOFF', 'PAIDOFF', 'PAIDOFF'],\n",
       "      dtype=object)"
      ]
     },
     "execution_count": 34,
     "metadata": {},
     "output_type": "execute_result"
    }
   ],
   "source": [
    "test_df = pd.read_csv('loan_test.csv')\n",
    "y_true = test_df['loan_status'].values\n",
    "y_true[0:5]"
   ]
  },
  {
   "cell_type": "code",
   "execution_count": 35,
   "id": "5d234c01",
   "metadata": {
    "execution": {
     "iopub.execute_input": "2022-03-10T13:10:18.822045Z",
     "iopub.status.busy": "2022-03-10T13:10:18.821075Z",
     "iopub.status.idle": "2022-03-10T13:10:18.824932Z",
     "shell.execute_reply": "2022-03-10T13:10:18.825411Z",
     "shell.execute_reply.started": "2022-03-10T13:08:27.061308Z"
    },
    "papermill": {
     "duration": 0.135682,
     "end_time": "2022-03-10T13:10:18.825585",
     "exception": false,
     "start_time": "2022-03-10T13:10:18.689903",
     "status": "completed"
    },
    "tags": []
   },
   "outputs": [],
   "source": [
    "algorithm = ['KNN', 'Decision Tree', 'SVM', 'LogisticRegression']"
   ]
  },
  {
   "cell_type": "code",
   "execution_count": 36,
   "id": "ce1f7108",
   "metadata": {
    "execution": {
     "iopub.execute_input": "2022-03-10T13:10:19.131011Z",
     "iopub.status.busy": "2022-03-10T13:10:19.129996Z",
     "iopub.status.idle": "2022-03-10T13:10:19.136295Z",
     "shell.execute_reply": "2022-03-10T13:10:19.135728Z",
     "shell.execute_reply.started": "2022-03-10T13:08:27.068855Z"
    },
    "papermill": {
     "duration": 0.1783,
     "end_time": "2022-03-10T13:10:19.136448",
     "exception": false,
     "start_time": "2022-03-10T13:10:18.958148",
     "status": "completed"
    },
    "tags": []
   },
   "outputs": [],
   "source": [
    "knn = knn_yhat[0:54]\n",
    "Dtree = predTree[0:54]\n",
    "LogReg = LR_yhat[0:54]\n",
    "svm_pred = clf_pred[0:54]\n",
    "yhat_proba = yhat_proba[0:54]\n",
    "model_predictions = [knn, Dtree, svm_pred, LogReg]"
   ]
  },
  {
   "cell_type": "code",
   "execution_count": 37,
   "id": "c180c583",
   "metadata": {
    "execution": {
     "iopub.execute_input": "2022-03-10T13:10:19.401494Z",
     "iopub.status.busy": "2022-03-10T13:10:19.400884Z",
     "iopub.status.idle": "2022-03-10T13:10:19.411208Z",
     "shell.execute_reply": "2022-03-10T13:10:19.411999Z",
     "shell.execute_reply.started": "2022-03-10T13:08:27.079455Z"
    },
    "papermill": {
     "duration": 0.143889,
     "end_time": "2022-03-10T13:10:19.412292",
     "exception": false,
     "start_time": "2022-03-10T13:10:19.268403",
     "status": "completed"
    },
    "tags": []
   },
   "outputs": [
    {
     "name": "stdout",
     "output_type": "stream",
     "text": [
      "              precision    recall  f1-score   support\n",
      "\n",
      "  COLLECTION       0.10      0.07      0.08        14\n",
      "     PAIDOFF       0.70      0.78      0.74        40\n",
      "\n",
      "    accuracy                           0.59        54\n",
      "   macro avg       0.40      0.42      0.41        54\n",
      "weighted avg       0.55      0.59      0.57        54\n",
      "\n"
     ]
    }
   ],
   "source": [
    "print(metrics.classification_report(y_true, model_predictions[2]))"
   ]
  },
  {
   "cell_type": "code",
   "execution_count": 38,
   "id": "82463d91",
   "metadata": {
    "execution": {
     "iopub.execute_input": "2022-03-10T13:10:19.681565Z",
     "iopub.status.busy": "2022-03-10T13:10:19.680956Z",
     "iopub.status.idle": "2022-03-10T13:10:19.689820Z",
     "shell.execute_reply": "2022-03-10T13:10:19.690318Z",
     "shell.execute_reply.started": "2022-03-10T13:08:27.098648Z"
    },
    "papermill": {
     "duration": 0.145512,
     "end_time": "2022-03-10T13:10:19.690538",
     "exception": false,
     "start_time": "2022-03-10T13:10:19.545026",
     "status": "completed"
    },
    "tags": []
   },
   "outputs": [],
   "source": [
    "scores = []\n",
    "for i in range(4):\n",
    "            scores.append([\n",
    "                metrics.accuracy_score(y_true, model_predictions[i]),\n",
    "                metrics.f1_score(y_true, model_predictions[i], average = 'weighted')\n",
    "               # metrics.log_loss(y_true, yhat_proba[0:54])\n",
    "            ])"
   ]
  },
  {
   "cell_type": "code",
   "execution_count": 39,
   "id": "6ab3b68a",
   "metadata": {
    "execution": {
     "iopub.execute_input": "2022-03-10T13:10:19.959305Z",
     "iopub.status.busy": "2022-03-10T13:10:19.958532Z",
     "iopub.status.idle": "2022-03-10T13:10:19.967115Z",
     "shell.execute_reply": "2022-03-10T13:10:19.966568Z",
     "shell.execute_reply.started": "2022-03-10T13:08:27.116697Z"
    },
    "papermill": {
     "duration": 0.144116,
     "end_time": "2022-03-10T13:10:19.967277",
     "exception": false,
     "start_time": "2022-03-10T13:10:19.823161",
     "status": "completed"
    },
    "tags": []
   },
   "outputs": [
    {
     "data": {
      "text/plain": [
       "['NA', 'NA', 'NA', 0.633459626537671]"
      ]
     },
     "execution_count": 39,
     "metadata": {},
     "output_type": "execute_result"
    }
   ],
   "source": [
    "logLoss = [\n",
    "    'NA',\n",
    "    'NA',\n",
    "    'NA',\n",
    "    metrics.log_loss(y_true, yhat_proba)\n",
    "]\n",
    "logLoss"
   ]
  },
  {
   "cell_type": "code",
   "execution_count": 40,
   "id": "847680f6",
   "metadata": {
    "execution": {
     "iopub.execute_input": "2022-03-10T13:10:20.237022Z",
     "iopub.status.busy": "2022-03-10T13:10:20.236362Z",
     "iopub.status.idle": "2022-03-10T13:10:20.243133Z",
     "shell.execute_reply": "2022-03-10T13:10:20.242550Z",
     "shell.execute_reply.started": "2022-03-10T13:08:27.128276Z"
    },
    "papermill": {
     "duration": 0.14059,
     "end_time": "2022-03-10T13:10:20.243279",
     "exception": false,
     "start_time": "2022-03-10T13:10:20.102689",
     "status": "completed"
    },
    "tags": []
   },
   "outputs": [],
   "source": [
    "df_score = pd.DataFrame(scores, index = algorithm, columns = ['Jaccard', 'F1-score'])\n",
    "df_score['LogLoss'] = logLoss"
   ]
  },
  {
   "cell_type": "markdown",
   "id": "31f186c1",
   "metadata": {
    "papermill": {
     "duration": 0.133691,
     "end_time": "2022-03-10T13:10:20.508856",
     "exception": false,
     "start_time": "2022-03-10T13:10:20.375165",
     "status": "completed"
    },
    "tags": []
   },
   "source": [
    "# **Results**"
   ]
  },
  {
   "cell_type": "code",
   "execution_count": 41,
   "id": "d55eb5ae",
   "metadata": {
    "execution": {
     "iopub.execute_input": "2022-03-10T13:10:20.782651Z",
     "iopub.status.busy": "2022-03-10T13:10:20.781771Z",
     "iopub.status.idle": "2022-03-10T13:10:20.785084Z",
     "shell.execute_reply": "2022-03-10T13:10:20.785527Z",
     "shell.execute_reply.started": "2022-03-10T13:08:27.142062Z"
    },
    "papermill": {
     "duration": 0.146939,
     "end_time": "2022-03-10T13:10:20.785716",
     "exception": false,
     "start_time": "2022-03-10T13:10:20.638777",
     "status": "completed"
    },
    "tags": []
   },
   "outputs": [
    {
     "data": {
      "text/html": [
       "<div>\n",
       "<style scoped>\n",
       "    .dataframe tbody tr th:only-of-type {\n",
       "        vertical-align: middle;\n",
       "    }\n",
       "\n",
       "    .dataframe tbody tr th {\n",
       "        vertical-align: top;\n",
       "    }\n",
       "\n",
       "    .dataframe thead th {\n",
       "        text-align: right;\n",
       "    }\n",
       "</style>\n",
       "<table border=\"1\" class=\"dataframe\">\n",
       "  <thead>\n",
       "    <tr style=\"text-align: right;\">\n",
       "      <th></th>\n",
       "      <th>Jaccard</th>\n",
       "      <th>F1-score</th>\n",
       "      <th>LogLoss</th>\n",
       "    </tr>\n",
       "  </thead>\n",
       "  <tbody>\n",
       "    <tr>\n",
       "      <th>KNN</th>\n",
       "      <td>0.629630</td>\n",
       "      <td>0.619901</td>\n",
       "      <td>NA</td>\n",
       "    </tr>\n",
       "    <tr>\n",
       "      <th>Decision Tree</th>\n",
       "      <td>0.518519</td>\n",
       "      <td>0.545267</td>\n",
       "      <td>NA</td>\n",
       "    </tr>\n",
       "    <tr>\n",
       "      <th>SVM</th>\n",
       "      <td>0.592593</td>\n",
       "      <td>0.568342</td>\n",
       "      <td>NA</td>\n",
       "    </tr>\n",
       "    <tr>\n",
       "      <th>LogisticRegression</th>\n",
       "      <td>0.629630</td>\n",
       "      <td>0.607584</td>\n",
       "      <td>0.63346</td>\n",
       "    </tr>\n",
       "  </tbody>\n",
       "</table>\n",
       "</div>"
      ],
      "text/plain": [
       "                     Jaccard  F1-score  LogLoss\n",
       "KNN                 0.629630  0.619901       NA\n",
       "Decision Tree       0.518519  0.545267       NA\n",
       "SVM                 0.592593  0.568342       NA\n",
       "LogisticRegression  0.629630  0.607584  0.63346"
      ]
     },
     "execution_count": 41,
     "metadata": {},
     "output_type": "execute_result"
    }
   ],
   "source": [
    "df_score"
   ]
  }
